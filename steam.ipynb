{
  "cells": [
    {
      "cell_type": "code",
      "source": [
        "gpu_info = !nvidia-smi\n",
        "gpu_info = '\\n'.join(gpu_info)\n",
        "if gpu_info.find('failed') >= 0:\n",
        "  print('Not connected to a GPU')\n",
        "else:\n",
        "  print(gpu_info)"
      ],
      "metadata": {
        "id": "bLZk_rn6oaOM",
        "colab": {
          "base_uri": "https://localhost:8080/"
        },
        "outputId": "2d759a62-8e08-4ebe-8cc0-1ee73af38607"
      },
      "execution_count": 1,
      "outputs": [
        {
          "output_type": "stream",
          "name": "stdout",
          "text": [
            "Not connected to a GPU\n"
          ]
        }
      ]
    },
    {
      "cell_type": "code",
      "source": [
        "from psutil import virtual_memory\n",
        "ram_gb = virtual_memory().total / 1e9\n",
        "print('Your runtime has {:.1f} gigabytes of available RAM\\n'.format(ram_gb))\n",
        "\n",
        "if ram_gb < 20:\n",
        "  print('Not using a high-RAM runtime')\n",
        "else:\n",
        "  print('You are using a high-RAM runtime!')"
      ],
      "metadata": {
        "colab": {
          "base_uri": "https://localhost:8080/"
        },
        "id": "5mYT5yzirKb9",
        "outputId": "cdb8e434-218c-47fb-d53c-0d964f6c5755"
      },
      "execution_count": 2,
      "outputs": [
        {
          "output_type": "stream",
          "name": "stdout",
          "text": [
            "Your runtime has 27.3 gigabytes of available RAM\n",
            "\n",
            "You are using a high-RAM runtime!\n"
          ]
        }
      ]
    },
    {
      "cell_type": "markdown",
      "metadata": {
        "id": "PDFXZf7FbavX"
      },
      "source": [
        "# Atividade final avaliativa da disciplina de Processamento de Dados e Longa Escala \n",
        "## **Tutor**: Anderson Felipe Rocha\n",
        "##Alunos**: Caio Serpa, Eden Coelho e Roberto Sá\n"
      ]
    },
    {
      "cell_type": "markdown",
      "metadata": {
        "id": "c36GjogX5ktc"
      },
      "source": [
        "#Configuração do ambiente, instalação do hadoop e spark"
      ]
    },
    {
      "cell_type": "code",
      "execution_count": 3,
      "metadata": {
        "colab": {
          "base_uri": "https://localhost:8080/"
        },
        "id": "LRKS6GpnbdaZ",
        "outputId": "5f64dac4-a687-4281-8f86-fbe8912ddac1"
      },
      "outputs": [
        {
          "output_type": "stream",
          "name": "stdout",
          "text": [
            "\u001b[31mERROR: Invalid requirement: 'findspark='\n",
            "Hint: = is not a valid operator. Did you mean == ?\u001b[0m\n",
            "Looking in indexes: https://pypi.org/simple, https://us-python.pkg.dev/colab-wheels/public/simple/\n",
            "Requirement already satisfied: pyspark==3.1.2 in /usr/local/lib/python3.7/dist-packages (3.1.2)\n",
            "Requirement already satisfied: py4j==0.10.9 in /usr/local/lib/python3.7/dist-packages (from pyspark==3.1.2) (0.10.9)\n"
          ]
        }
      ],
      "source": [
        "#instalar o Java 8 na maquina da sessão\n",
        "!apt-get install openjdk-8-jdk-headless -qq > /dev/null\n",
        "\n",
        "#setando jdk 8\n",
        "#!sudo apt install openjdk-8-jdk\n",
        "#!sudo update-alternatives --config java \n",
        "\n",
        "#spark\n",
        "!wget -q https://ftp.unicamp.br/pub/apache/spark/spark-3.1.2/spark-3.1.2-bin-hadoop3.2.tgz\n",
        "#extração do spark\n",
        "!tar xf spark-3.1.2-bin-hadoop3.2.tgz\n",
        "#findspark para facilitar na criação da sessão spark\n",
        "!pip install -q findspark=\n",
        "!pip install  pyspark==3.1.2"
      ]
    },
    {
      "cell_type": "code",
      "execution_count": 4,
      "metadata": {
        "colab": {
          "base_uri": "https://localhost:8080/"
        },
        "id": "-eTzi_8cOEzS",
        "outputId": "5f458e8f-5bce-4089-84d2-626499420404"
      },
      "outputs": [
        {
          "output_type": "stream",
          "name": "stdout",
          "text": [
            "openjdk version \"11.0.17\" 2022-10-18\n",
            "OpenJDK Runtime Environment (build 11.0.17+8-post-Ubuntu-1ubuntu218.04)\n",
            "OpenJDK 64-Bit Server VM (build 11.0.17+8-post-Ubuntu-1ubuntu218.04, mixed mode, sharing)\n"
          ]
        }
      ],
      "source": [
        "!java -version"
      ]
    },
    {
      "cell_type": "code",
      "execution_count": 5,
      "metadata": {
        "colab": {
          "base_uri": "https://localhost:8080/"
        },
        "id": "l-sfw6A7bsUZ",
        "outputId": "76a7d6ca-9f8c-45ea-eb4f-30f64a9cff42"
      },
      "outputs": [
        {
          "output_type": "stream",
          "name": "stdout",
          "text": [
            "/usr/lib/jvm/java-8-openjdk-amd64\n",
            "/content/spark-3.1.2-bin-hadoop3.2\n"
          ]
        }
      ],
      "source": [
        "import os\n",
        "from pyspark import SparkConf, SparkContext\n",
        "from pyspark.sql import SparkSession\n",
        "\n",
        "#variáveis de ambiente\n",
        "os.environ[\"JAVA_HOME\"] = \"/usr/lib/jvm/java-8-openjdk-amd64\"\n",
        "os.environ[\"SPARK_HOME\"] = \"/content/spark-3.1.2-bin-hadoop3.2\"\n",
        "\n",
        "\n",
        "\n",
        "os.environ['PYSPARK_SUBMIT_ARGS'] = '\\\n",
        "    --driver-memory 20G \\\n",
        "    --executor-memory 20G \\\n",
        "    pyspark-shell'\n",
        "\n",
        "\n",
        "\n",
        "print(os.environ['JAVA_HOME'])\n",
        "print(os.environ['SPARK_HOME']) "
      ]
    },
    {
      "cell_type": "code",
      "execution_count": 6,
      "metadata": {
        "colab": {
          "base_uri": "https://localhost:8080/"
        },
        "id": "ibj1draDb3ce",
        "outputId": "ee3c8623-e6fa-4176-900c-32a079ebc607"
      },
      "outputs": [
        {
          "output_type": "stream",
          "name": "stdout",
          "text": [
            "Looking in indexes: https://pypi.org/simple, https://us-python.pkg.dev/colab-wheels/public/simple/\n",
            "Requirement already satisfied: findspark in /usr/local/lib/python3.7/dist-packages (2.0.1)\n"
          ]
        }
      ],
      "source": [
        "!pip install findspark\n",
        "import findspark\n",
        "\n",
        "findspark.find()\n",
        "findspark.init()\n",
        "\n",
        "conf = SparkConf().setMaster(\"local[*]\")\n",
        "sc = SparkContext.getOrCreate(conf=conf)\n",
        "#sc.stop()"
      ]
    },
    {
      "cell_type": "code",
      "source": [
        "from google.colab import drive\n",
        "drive.mount('/content/drive')"
      ],
      "metadata": {
        "id": "gdbc3UfhwkNE",
        "colab": {
          "base_uri": "https://localhost:8080/"
        },
        "outputId": "bc59b4a6-fc56-49d8-934f-e8d980abefa7"
      },
      "execution_count": 7,
      "outputs": [
        {
          "output_type": "stream",
          "name": "stdout",
          "text": [
            "Mounted at /content/drive\n"
          ]
        }
      ]
    },
    {
      "cell_type": "markdown",
      "metadata": {
        "id": "zUjLtTRg5tJG"
      },
      "source": [
        "#Importação do conjunto de dados\n",
        "\n",
        "Fonte dos dados: https://www.kaggle.com/datasets/najzeko/steam-reviews-2021?resource=download\n",
        "\n",
        "Tamanho do arquivo: 8.17GB\n",
        "Formato do arquivo: CSV\n",
        "\n",
        "Conjunto de dados de cerca de 21 milhões de avaliações de usuários de cerca de 300 jogos diferentes no Steam. Obtido usando a API fornecida pelo Steam descrita na documentação do Steamworks"
      ]
    },
    {
      "cell_type": "code",
      "execution_count": 8,
      "metadata": {
        "id": "PnVcS5I3cXRC",
        "colab": {
          "base_uri": "https://localhost:8080/"
        },
        "outputId": "aabdc43a-9489-41a4-a8eb-9b2eeed3b13a"
      },
      "outputs": [
        {
          "output_type": "stream",
          "name": "stdout",
          "text": [
            "Mounted at /content/gdrive\n"
          ]
        }
      ],
      "source": [
        "#recebendo os dados via api do google drive\n",
        "from google.colab import drive \n",
        "\n",
        "drive.mount('/content/gdrive')"
      ]
    },
    {
      "cell_type": "code",
      "execution_count": 9,
      "metadata": {
        "id": "VTsOkCxxbave"
      },
      "outputs": [],
      "source": [
        "from pyspark.sql.functions import to_timestamp\n",
        "spark = SparkSession \\\n",
        "    .builder \\\n",
        "    .getOrCreate()\n",
        "\n",
        "\n",
        "#data_spark = spark.read.csv('gdrive/My Drive/Colab Notebooks/steam_reviews.csv', header=True, inferSchema=False)"
      ]
    },
    {
      "cell_type": "code",
      "execution_count": 10,
      "metadata": {
        "id": "t9ZeYhwW8QAR"
      },
      "outputs": [],
      "source": [
        "from pyspark.sql.types import *\n",
        "\n",
        "schema = StructType([\n",
        "    StructField('_c0', IntegerType(), False),\n",
        "    StructField('app_id',IntegerType(), False),\n",
        "    StructField('app_name', StringType(),False),\n",
        "    StructField('review_id',IntegerType(), False),\n",
        "    StructField('language', StringType(),False),\n",
        "    StructField('review', StringType(),False),\n",
        "    StructField('timestamp_created', LongType(), False),\n",
        "    StructField('timestamp_updated', LongType(), False),\n",
        "    StructField('recommended', BooleanType(), False),\n",
        "    StructField('votes_helpful',IntegerType(), False),\n",
        "    StructField('votes_funny',IntegerType(), False),\n",
        "    StructField('weighted_vote_score', FloatType(), False),\n",
        "    StructField('comment_count',IntegerType(), False),\n",
        "    StructField('steam_purchase', BooleanType(), False),\n",
        "    StructField('received_for_free', BooleanType(), False),\n",
        "    StructField('written_during_early_access', BooleanType(), False),\n",
        "    StructField('author.steamid', LongType(), False),\n",
        "    StructField('author.num_games_owned',IntegerType(), False),\n",
        "    StructField('author.num_reviews',IntegerType(), False),\n",
        "    StructField('author.playtime_forever', FloatType(), False),\n",
        "    StructField('author.playtime_last_two_weeks', FloatType(), False),\n",
        "    StructField('author.playtime_at_review', FloatType(), False),\n",
        "    StructField('author.last_played', StringType(), False),\n",
        "])\n"
      ]
    },
    {
      "cell_type": "code",
      "execution_count": 11,
      "metadata": {
        "id": "g8DlsCK-_kIi"
      },
      "outputs": [],
      "source": [
        "data_spark = spark.read.csv('/content/gdrive/MyDrive/Colab Notebooks/steam_reviews.csv', header=True, schema=schema)\n",
        "\n",
        "#data_spark = spark.read.csv('gdrive/My Drive/Colab Notebooks/steam_reviews.csv', header=True, inferSchema=True)"
      ]
    },
    {
      "cell_type": "code",
      "execution_count": 12,
      "metadata": {
        "id": "WeSP8oI27nvD",
        "colab": {
          "base_uri": "https://localhost:8080/"
        },
        "outputId": "6e4856f5-7612-4ac4-dea7-e13037b0a4ff"
      },
      "outputs": [
        {
          "output_type": "stream",
          "name": "stdout",
          "text": [
            "root\n",
            " |-- _c0: integer (nullable = true)\n",
            " |-- app_id: integer (nullable = true)\n",
            " |-- app_name: string (nullable = true)\n",
            " |-- review_id: integer (nullable = true)\n",
            " |-- language: string (nullable = true)\n",
            " |-- review: string (nullable = true)\n",
            " |-- timestamp_created: long (nullable = true)\n",
            " |-- timestamp_updated: long (nullable = true)\n",
            " |-- recommended: boolean (nullable = true)\n",
            " |-- votes_helpful: integer (nullable = true)\n",
            " |-- votes_funny: integer (nullable = true)\n",
            " |-- weighted_vote_score: float (nullable = true)\n",
            " |-- comment_count: integer (nullable = true)\n",
            " |-- steam_purchase: boolean (nullable = true)\n",
            " |-- received_for_free: boolean (nullable = true)\n",
            " |-- written_during_early_access: boolean (nullable = true)\n",
            " |-- author.steamid: long (nullable = true)\n",
            " |-- author.num_games_owned: integer (nullable = true)\n",
            " |-- author.num_reviews: integer (nullable = true)\n",
            " |-- author.playtime_forever: float (nullable = true)\n",
            " |-- author.playtime_last_two_weeks: float (nullable = true)\n",
            " |-- author.playtime_at_review: float (nullable = true)\n",
            " |-- author.last_played: string (nullable = true)\n",
            "\n"
          ]
        }
      ],
      "source": [
        "data_spark.printSchema()"
      ]
    },
    {
      "cell_type": "code",
      "execution_count": 13,
      "metadata": {
        "id": "NzXcAYcVYyHJ"
      },
      "outputs": [],
      "source": [
        "data_spark = data_spark.withColumnRenamed('_c0', 'id')\\\n",
        "            .withColumnRenamed('author.steamid', 'author_steamid')\\\n",
        "            .withColumnRenamed('author.num_games_owned', 'author_num_games_owned')\\\n",
        "            .withColumnRenamed('author.num_reviews', 'author_num_reviews')\\\n",
        "            .withColumnRenamed('author.playtime_forever', 'author_playtime_forever')\\\n",
        "            .withColumnRenamed('author.playtime_last_two_weeks', 'author_playtime_last_two_weeks')\\\n",
        "            .withColumnRenamed('author.playtime_at_review', 'author_playtime_at_review')\\\n",
        "            .withColumnRenamed('author.last_played', 'author_last_played')\n",
        "\n"
      ]
    },
    {
      "cell_type": "code",
      "execution_count": 14,
      "metadata": {
        "id": "jJV10kfbe_xl"
      },
      "outputs": [],
      "source": [
        "#data_spark.show(5)"
      ]
    },
    {
      "cell_type": "markdown",
      "metadata": {
        "id": "Cvlig2Qf6Z3C"
      },
      "source": []
    },
    {
      "cell_type": "code",
      "execution_count": 15,
      "metadata": {
        "id": "g9818ULlKMk-",
        "colab": {
          "base_uri": "https://localhost:8080/"
        },
        "outputId": "9ff04df6-d5f7-4952-e2be-e562e8f6e2ec"
      },
      "outputs": [
        {
          "output_type": "execute_result",
          "data": {
            "text/plain": [
              "16619206"
            ]
          },
          "metadata": {},
          "execution_count": 15
        }
      ],
      "source": [
        "data_spark = data_spark.na.drop()\n",
        "data_spark.count()"
      ]
    },
    {
      "cell_type": "code",
      "execution_count": 16,
      "metadata": {
        "id": "nVjucT8ba609",
        "colab": {
          "base_uri": "https://localhost:8080/"
        },
        "outputId": "405fab93-3cf1-44be-f506-3bf41fb636e5"
      },
      "outputs": [
        {
          "output_type": "stream",
          "name": "stdout",
          "text": [
            "+---+------+------------------------+---------+--------+-----------------------------------------------------------+-----------------+-----------------+-----------+-------------+-----------+-------------------+-------------+--------------+-----------------+---------------------------+-----------------+----------------------+------------------+-----------------------+------------------------------+-------------------------+------------------+\n",
            "|id |app_id|app_name                |review_id|language|review                                                     |timestamp_created|timestamp_updated|recommended|votes_helpful|votes_funny|weighted_vote_score|comment_count|steam_purchase|received_for_free|written_during_early_access|author_steamid   |author_num_games_owned|author_num_reviews|author_playtime_forever|author_playtime_last_two_weeks|author_playtime_at_review|author_last_played|\n",
            "+---+------+------------------------+---------+--------+-----------------------------------------------------------+-----------------+-----------------+-----------+-------------+-----------+-------------------+-------------+--------------+-----------------+---------------------------+-----------------+----------------------+------------------+-----------------------+------------------------------+-------------------------+------------------+\n",
            "|0  |292030|The Witcher 3: Wild Hunt|85185598 |schinese|不玩此生遗憾，RPG游戏里的天花板，太吸引人了                |1611381629       |1611381629       |true       |0            |0          |0.0                |0            |true          |false            |false                      |76561199095369542|6                     |2                 |1909.0                 |1448.0                        |1909.0                   |1611343383.0      |\n",
            "|1  |292030|The Witcher 3: Wild Hunt|85185250 |schinese|拔DIAO无情打桩机--杰洛特!!!                                |1611381030       |1611381030       |true       |0            |0          |0.0                |0            |true          |false            |false                      |76561198949504115|30                    |10                |2764.0                 |2743.0                        |2674.0                   |1611386307.0      |\n",
            "|2  |292030|The Witcher 3: Wild Hunt|85185111 |schinese|巫师3NB                                                    |1611380800       |1611380800       |true       |0            |0          |0.0                |0            |true          |false            |false                      |76561199090098988|5                     |1                 |1061.0                 |1061.0                        |1060.0                   |1611383777.0      |\n",
            "|3  |292030|The Witcher 3: Wild Hunt|85184605 |english |One of the best RPG's of all time, worthy of any collection|1611379970       |1611379970       |true       |0            |0          |0.0                |0            |true          |false            |false                      |76561199054755373|5                     |3                 |5587.0                 |3200.0                        |5524.0                   |1611383744.0      |\n",
            "|4  |292030|The Witcher 3: Wild Hunt|85184287 |schinese|大作                                                       |1611379427       |1611379427       |true       |0            |0          |0.0                |0            |true          |false            |false                      |76561199028326951|7                     |4                 |217.0                  |42.0                          |217.0                    |1610788249.0      |\n",
            "|5  |292030|The Witcher 3: Wild Hunt|85184171 |english |good story, good graphics. lots to do.                     |1611379264       |1611379264       |true       |0            |0          |0.0                |0            |true          |false            |false                      |76561198170193529|11                    |1                 |823.0                  |823.0                         |823.0                    |1611379201.0      |\n",
            "|6  |292030|The Witcher 3: Wild Hunt|85184064 |english |dis gud,                                                   |1611379091       |1611379091       |true       |0            |0          |0.0                |0            |true          |false            |false                      |76561198119302812|27                    |2                 |4192.0                 |3398.0                        |4192.0                   |1611351734.0      |\n",
            "|8  |292030|The Witcher 3: Wild Hunt|85183227 |schinese|年度最佳的作品，没啥好夸的，神作                           |1611377703       |1611377703       |true       |0            |0          |0.0                |0            |true          |false            |false                      |76561198130808993|581                   |17                |6921.0                 |222.0                         |6921.0                   |1611317275.0      |\n",
            "|9  |292030|The Witcher 3: Wild Hunt|85182785 |spanish |great game                                                 |1611377005       |1611377005       |true       |0            |0          |0.0                |0            |true          |false            |false                      |76561198301724112|38                    |5                 |2399.0                 |333.0                         |2364.0                   |1611379080.0      |\n",
            "|10 |292030|The Witcher 3: Wild Hunt|85182697 |schinese|神作！不bb                                                 |1611376831       |1611376831       |true       |0            |0          |0.0                |0            |false         |false            |false                      |76561199089209577|29                    |1                 |5368.0                 |1471.0                        |5368.0                   |1611371665.0      |\n",
            "+---+------+------------------------+---------+--------+-----------------------------------------------------------+-----------------+-----------------+-----------+-------------+-----------+-------------------+-------------+--------------+-----------------+---------------------------+-----------------+----------------------+------------------+-----------------------+------------------------------+-------------------------+------------------+\n",
            "only showing top 10 rows\n",
            "\n"
          ]
        }
      ],
      "source": [
        "data_spark.show(10,truncate=False)"
      ]
    },
    {
      "cell_type": "code",
      "execution_count": 17,
      "metadata": {
        "id": "c-rbqQ-NXNcE"
      },
      "outputs": [],
      "source": [
        "#data_spark.count()"
      ]
    },
    {
      "cell_type": "code",
      "execution_count": 18,
      "metadata": {
        "id": "ujsX97bKWRmp",
        "colab": {
          "base_uri": "https://localhost:8080/"
        },
        "outputId": "4992cf31-7350-4d6a-bba5-8e3cd380e946"
      },
      "outputs": [
        {
          "output_type": "execute_result",
          "data": {
            "text/plain": [
              "16619206"
            ]
          },
          "metadata": {},
          "execution_count": 18
        }
      ],
      "source": [
        "from pyspark.sql.functions import *\n",
        "\n",
        "#função para remover o ponto e o zero da coluna autor_last_played\n",
        "get_number_without_dot = udf(lambda s: s.split('.')[0], StringType())\n",
        "data_spark = data_spark.withColumn('s_author_last_played', get_number_without_dot(data_spark.author_last_played))\n",
        "data_spark.count()"
      ]
    },
    {
      "cell_type": "code",
      "execution_count": 19,
      "metadata": {
        "id": "UW4hms4ej7ie",
        "colab": {
          "base_uri": "https://localhost:8080/"
        },
        "outputId": "683ea70f-b9c3-4911-e4dd-803ffd9c91e2"
      },
      "outputs": [
        {
          "output_type": "stream",
          "name": "stdout",
          "text": [
            "+---+------+------------------------+---------+--------+-----------------------------------------------------------+-----------------+-----------------+-----------+-------------+-----------+-------------------+-------------+--------------+-----------------+---------------------------+-----------------+----------------------+------------------+-----------------------+------------------------------+-------------------------+------------------+--------------------+\n",
            "|id |app_id|app_name                |review_id|language|review                                                     |timestamp_created|timestamp_updated|recommended|votes_helpful|votes_funny|weighted_vote_score|comment_count|steam_purchase|received_for_free|written_during_early_access|author_steamid   |author_num_games_owned|author_num_reviews|author_playtime_forever|author_playtime_last_two_weeks|author_playtime_at_review|author_last_played|s_author_last_played|\n",
            "+---+------+------------------------+---------+--------+-----------------------------------------------------------+-----------------+-----------------+-----------+-------------+-----------+-------------------+-------------+--------------+-----------------+---------------------------+-----------------+----------------------+------------------+-----------------------+------------------------------+-------------------------+------------------+--------------------+\n",
            "|0  |292030|The Witcher 3: Wild Hunt|85185598 |schinese|不玩此生遗憾，RPG游戏里的天花板，太吸引人了                |1611381629       |1611381629       |true       |0            |0          |0.0                |0            |true          |false            |false                      |76561199095369542|6                     |2                 |1909.0                 |1448.0                        |1909.0                   |1611343383.0      |1611343383          |\n",
            "|1  |292030|The Witcher 3: Wild Hunt|85185250 |schinese|拔DIAO无情打桩机--杰洛特!!!                                |1611381030       |1611381030       |true       |0            |0          |0.0                |0            |true          |false            |false                      |76561198949504115|30                    |10                |2764.0                 |2743.0                        |2674.0                   |1611386307.0      |1611386307          |\n",
            "|2  |292030|The Witcher 3: Wild Hunt|85185111 |schinese|巫师3NB                                                    |1611380800       |1611380800       |true       |0            |0          |0.0                |0            |true          |false            |false                      |76561199090098988|5                     |1                 |1061.0                 |1061.0                        |1060.0                   |1611383777.0      |1611383777          |\n",
            "|3  |292030|The Witcher 3: Wild Hunt|85184605 |english |One of the best RPG's of all time, worthy of any collection|1611379970       |1611379970       |true       |0            |0          |0.0                |0            |true          |false            |false                      |76561199054755373|5                     |3                 |5587.0                 |3200.0                        |5524.0                   |1611383744.0      |1611383744          |\n",
            "|4  |292030|The Witcher 3: Wild Hunt|85184287 |schinese|大作                                                       |1611379427       |1611379427       |true       |0            |0          |0.0                |0            |true          |false            |false                      |76561199028326951|7                     |4                 |217.0                  |42.0                          |217.0                    |1610788249.0      |1610788249          |\n",
            "|5  |292030|The Witcher 3: Wild Hunt|85184171 |english |good story, good graphics. lots to do.                     |1611379264       |1611379264       |true       |0            |0          |0.0                |0            |true          |false            |false                      |76561198170193529|11                    |1                 |823.0                  |823.0                         |823.0                    |1611379201.0      |1611379201          |\n",
            "|6  |292030|The Witcher 3: Wild Hunt|85184064 |english |dis gud,                                                   |1611379091       |1611379091       |true       |0            |0          |0.0                |0            |true          |false            |false                      |76561198119302812|27                    |2                 |4192.0                 |3398.0                        |4192.0                   |1611351734.0      |1611351734          |\n",
            "|8  |292030|The Witcher 3: Wild Hunt|85183227 |schinese|年度最佳的作品，没啥好夸的，神作                           |1611377703       |1611377703       |true       |0            |0          |0.0                |0            |true          |false            |false                      |76561198130808993|581                   |17                |6921.0                 |222.0                         |6921.0                   |1611317275.0      |1611317275          |\n",
            "|9  |292030|The Witcher 3: Wild Hunt|85182785 |spanish |great game                                                 |1611377005       |1611377005       |true       |0            |0          |0.0                |0            |true          |false            |false                      |76561198301724112|38                    |5                 |2399.0                 |333.0                         |2364.0                   |1611379080.0      |1611379080          |\n",
            "|10 |292030|The Witcher 3: Wild Hunt|85182697 |schinese|神作！不bb                                                 |1611376831       |1611376831       |true       |0            |0          |0.0                |0            |false         |false            |false                      |76561199089209577|29                    |1                 |5368.0                 |1471.0                        |5368.0                   |1611371665.0      |1611371665          |\n",
            "+---+------+------------------------+---------+--------+-----------------------------------------------------------+-----------------+-----------------+-----------+-------------+-----------+-------------------+-------------+--------------+-----------------+---------------------------+-----------------+----------------------+------------------+-----------------------+------------------------------+-------------------------+------------------+--------------------+\n",
            "only showing top 10 rows\n",
            "\n"
          ]
        }
      ],
      "source": [
        "data_spark.show(10,truncate=False)"
      ]
    },
    {
      "cell_type": "code",
      "execution_count": 20,
      "metadata": {
        "id": "ktvcdrAhj3DY",
        "colab": {
          "base_uri": "https://localhost:8080/"
        },
        "outputId": "eb5f3e81-d8a2-40b1-82d6-a884762547be"
      },
      "outputs": [
        {
          "output_type": "stream",
          "name": "stdout",
          "text": [
            "+---+------+------------------------+---------+--------+-----------------------------------------------------------+-----------+-------------+-----------+-------------------+-------------+--------------+-----------------+---------------------------+-----------------+----------------------+------------------+-----------------------+------------------------------+-------------------------+--------------------+-------------------+-------------------+\n",
            "|id |app_id|app_name                |review_id|language|review                                                     |recommended|votes_helpful|votes_funny|weighted_vote_score|comment_count|steam_purchase|received_for_free|written_during_early_access|author_steamid   |author_num_games_owned|author_num_reviews|author_playtime_forever|author_playtime_last_two_weeks|author_playtime_at_review|t_author_last_played|t_timestamp_created|t_timestamp_updated|\n",
            "+---+------+------------------------+---------+--------+-----------------------------------------------------------+-----------+-------------+-----------+-------------------+-------------+--------------+-----------------+---------------------------+-----------------+----------------------+------------------+-----------------------+------------------------------+-------------------------+--------------------+-------------------+-------------------+\n",
            "|0  |292030|The Witcher 3: Wild Hunt|85185598 |schinese|不玩此生遗憾，RPG游戏里的天花板，太吸引人了                |true       |0            |0          |0.0                |0            |true          |false            |false                      |76561199095369542|6                     |2                 |1909.0                 |1448.0                        |1909.0                   |2021-01-22 19:23:03 |2021-01-23 06:00:29|2021-01-23 06:00:29|\n",
            "|1  |292030|The Witcher 3: Wild Hunt|85185250 |schinese|拔DIAO无情打桩机--杰洛特!!!                                |true       |0            |0          |0.0                |0            |true          |false            |false                      |76561198949504115|30                    |10                |2764.0                 |2743.0                        |2674.0                   |2021-01-23 07:18:27 |2021-01-23 05:50:30|2021-01-23 05:50:30|\n",
            "|2  |292030|The Witcher 3: Wild Hunt|85185111 |schinese|巫师3NB                                                    |true       |0            |0          |0.0                |0            |true          |false            |false                      |76561199090098988|5                     |1                 |1061.0                 |1061.0                        |1060.0                   |2021-01-23 06:36:17 |2021-01-23 05:46:40|2021-01-23 05:46:40|\n",
            "|3  |292030|The Witcher 3: Wild Hunt|85184605 |english |One of the best RPG's of all time, worthy of any collection|true       |0            |0          |0.0                |0            |true          |false            |false                      |76561199054755373|5                     |3                 |5587.0                 |3200.0                        |5524.0                   |2021-01-23 06:35:44 |2021-01-23 05:32:50|2021-01-23 05:32:50|\n",
            "|4  |292030|The Witcher 3: Wild Hunt|85184287 |schinese|大作                                                       |true       |0            |0          |0.0                |0            |true          |false            |false                      |76561199028326951|7                     |4                 |217.0                  |42.0                          |217.0                    |2021-01-16 09:10:49 |2021-01-23 05:23:47|2021-01-23 05:23:47|\n",
            "|5  |292030|The Witcher 3: Wild Hunt|85184171 |english |good story, good graphics. lots to do.                     |true       |0            |0          |0.0                |0            |true          |false            |false                      |76561198170193529|11                    |1                 |823.0                  |823.0                         |823.0                    |2021-01-23 05:20:01 |2021-01-23 05:21:04|2021-01-23 05:21:04|\n",
            "|6  |292030|The Witcher 3: Wild Hunt|85184064 |english |dis gud,                                                   |true       |0            |0          |0.0                |0            |true          |false            |false                      |76561198119302812|27                    |2                 |4192.0                 |3398.0                        |4192.0                   |2021-01-22 21:42:14 |2021-01-23 05:18:11|2021-01-23 05:18:11|\n",
            "|8  |292030|The Witcher 3: Wild Hunt|85183227 |schinese|年度最佳的作品，没啥好夸的，神作                           |true       |0            |0          |0.0                |0            |true          |false            |false                      |76561198130808993|581                   |17                |6921.0                 |222.0                         |6921.0                   |2021-01-22 12:07:55 |2021-01-23 04:55:03|2021-01-23 04:55:03|\n",
            "|9  |292030|The Witcher 3: Wild Hunt|85182785 |spanish |great game                                                 |true       |0            |0          |0.0                |0            |true          |false            |false                      |76561198301724112|38                    |5                 |2399.0                 |333.0                         |2364.0                   |2021-01-23 05:18:00 |2021-01-23 04:43:25|2021-01-23 04:43:25|\n",
            "|10 |292030|The Witcher 3: Wild Hunt|85182697 |schinese|神作！不bb                                                 |true       |0            |0          |0.0                |0            |false         |false            |false                      |76561199089209577|29                    |1                 |5368.0                 |1471.0                        |5368.0                   |2021-01-23 03:14:25 |2021-01-23 04:40:31|2021-01-23 04:40:31|\n",
            "+---+------+------------------------+---------+--------+-----------------------------------------------------------+-----------+-------------+-----------+-------------------+-------------+--------------+-----------------+---------------------------+-----------------+----------------------+------------------+-----------------------+------------------------------+-------------------------+--------------------+-------------------+-------------------+\n",
            "only showing top 10 rows\n",
            "\n"
          ]
        }
      ],
      "source": [
        "#Convertendo para longType() a coluna s_author_last played\n",
        "data_spark = data_spark.withColumn('s_author_last_played',data_spark[\"s_author_last_played\"].cast(LongType()))\n",
        "data_spark.count()\n",
        "#Convertendo para data as seguintes colunas\n",
        "data_spark  = data_spark.withColumn('s_author_last_played', from_unixtime(col('s_author_last_played')))\\\n",
        "          .withColumnRenamed('s_author_last_played','t_author_last_played')\\\n",
        "          .withColumn('t_timestamp_created', from_unixtime(col('timestamp_created')))\\\n",
        "          .withColumn('t_timestamp_updated', from_unixtime(col('timestamp_updated')))\\\n",
        "       \n",
        "\n",
        "#dropando colunas\n",
        "cols = (\"timestamp_created\",\"timestamp_updated\",\"author_last_played\")\n",
        "data_spark = data_spark.drop(*cols)\n",
        "data_spark.count()\n",
        "\n",
        "data_spark.show(10,truncate=False)"
      ]
    },
    {
      "cell_type": "code",
      "execution_count": 21,
      "metadata": {
        "id": "8txVEA4ZHC05"
      },
      "outputs": [],
      "source": [
        "#data_spark.coalesce(1).write.option(\"header\",True).format(\"csv\").save(\"gdrive/MyDrive/clean_data\")"
      ]
    },
    {
      "cell_type": "code",
      "source": [
        "data_spark.cache()\n",
        "data_spark.show()"
      ],
      "metadata": {
        "colab": {
          "base_uri": "https://localhost:8080/"
        },
        "id": "zwX5-h3rn5Ob",
        "outputId": "d08ca95d-4732-4f20-c35d-20bba923a082"
      },
      "execution_count": 26,
      "outputs": [
        {
          "output_type": "stream",
          "name": "stdout",
          "text": [
            "+---+------+--------------------+---------+--------+-------------------------------------+-----------+-------------+-----------+-------------------+-------------+--------------+-----------------+---------------------------+-----------------+----------------------+------------------+-----------------------+------------------------------+-------------------------+--------------------+-------------------+-------------------+\n",
            "| id|app_id|            app_name|review_id|language|                               review|recommended|votes_helpful|votes_funny|weighted_vote_score|comment_count|steam_purchase|received_for_free|written_during_early_access|   author_steamid|author_num_games_owned|author_num_reviews|author_playtime_forever|author_playtime_last_two_weeks|author_playtime_at_review|t_author_last_played|t_timestamp_created|t_timestamp_updated|\n",
            "+---+------+--------------------+---------+--------+-------------------------------------+-----------+-------------+-----------+-------------------+-------------+--------------+-----------------+---------------------------+-----------------+----------------------+------------------+-----------------------+------------------------------+-------------------------+--------------------+-------------------+-------------------+\n",
            "|  0|292030|The Witcher 3: Wi...| 85185598|schinese|   不玩此生遗憾，RPG游戏里的天花板...|       true|            0|          0|                0.0|            0|          true|            false|                      false|76561199095369542|                     6|                 2|                 1909.0|                        1448.0|                   1909.0| 2021-01-22 19:23:03|2021-01-23 06:00:29|2021-01-23 06:00:29|\n",
            "|  1|292030|The Witcher 3: Wi...| 85185250|schinese|          拔DIAO无情打桩机--杰洛特!!!|       true|            0|          0|                0.0|            0|          true|            false|                      false|76561198949504115|                    30|                10|                 2764.0|                        2743.0|                   2674.0| 2021-01-23 07:18:27|2021-01-23 05:50:30|2021-01-23 05:50:30|\n",
            "|  2|292030|The Witcher 3: Wi...| 85185111|schinese|                              巫师3NB|       true|            0|          0|                0.0|            0|          true|            false|                      false|76561199090098988|                     5|                 1|                 1061.0|                        1061.0|                   1060.0| 2021-01-23 06:36:17|2021-01-23 05:46:40|2021-01-23 05:46:40|\n",
            "|  3|292030|The Witcher 3: Wi...| 85184605| english|                 One of the best R...|       true|            0|          0|                0.0|            0|          true|            false|                      false|76561199054755373|                     5|                 3|                 5587.0|                        3200.0|                   5524.0| 2021-01-23 06:35:44|2021-01-23 05:32:50|2021-01-23 05:32:50|\n",
            "|  4|292030|The Witcher 3: Wi...| 85184287|schinese|                                 大作|       true|            0|          0|                0.0|            0|          true|            false|                      false|76561199028326951|                     7|                 4|                  217.0|                          42.0|                    217.0| 2021-01-16 09:10:49|2021-01-23 05:23:47|2021-01-23 05:23:47|\n",
            "|  5|292030|The Witcher 3: Wi...| 85184171| english|                 good story, good ...|       true|            0|          0|                0.0|            0|          true|            false|                      false|76561198170193529|                    11|                 1|                  823.0|                         823.0|                    823.0| 2021-01-23 05:20:01|2021-01-23 05:21:04|2021-01-23 05:21:04|\n",
            "|  6|292030|The Witcher 3: Wi...| 85184064| english|                             dis gud,|       true|            0|          0|                0.0|            0|          true|            false|                      false|76561198119302812|                    27|                 2|                 4192.0|                        3398.0|                   4192.0| 2021-01-22 21:42:14|2021-01-23 05:18:11|2021-01-23 05:18:11|\n",
            "|  8|292030|The Witcher 3: Wi...| 85183227|schinese|     年度最佳的作品，没啥好夸的，神作|       true|            0|          0|                0.0|            0|          true|            false|                      false|76561198130808993|                   581|                17|                 6921.0|                         222.0|                   6921.0| 2021-01-22 12:07:55|2021-01-23 04:55:03|2021-01-23 04:55:03|\n",
            "|  9|292030|The Witcher 3: Wi...| 85182785| spanish|                           great game|       true|            0|          0|                0.0|            0|          true|            false|                      false|76561198301724112|                    38|                 5|                 2399.0|                         333.0|                   2364.0| 2021-01-23 05:18:00|2021-01-23 04:43:25|2021-01-23 04:43:25|\n",
            "| 10|292030|The Witcher 3: Wi...| 85182697|schinese|                           神作！不bb|       true|            0|          0|                0.0|            0|         false|            false|                      false|76561199089209577|                    29|                 1|                 5368.0|                        1471.0|                   5368.0| 2021-01-23 03:14:25|2021-01-23 04:40:31|2021-01-23 04:40:31|\n",
            "| 11|292030|The Witcher 3: Wi...| 85182372| russian|                 Шикарная игра с о...|       true|            0|          0|                0.0|            0|          true|            false|                      false|76561198257031328|                    11|                 2|                  508.0|                         508.0|                    348.0| 2021-01-23 07:22:48|2021-01-23 04:31:21|2021-01-23 04:31:21|\n",
            "| 13|292030|The Witcher 3: Wi...| 85181146| russian|                 Замечательная кар...|       true|            0|          0|                0.0|            0|          true|            false|                      false|76561197987104694|                   501|                23|                 7310.0|                           0.0|                   7310.0| 2018-05-05 21:09:09|2021-01-23 03:57:18|2021-01-23 03:58:29|\n",
            "| 14|292030|The Witcher 3: Wi...| 85181114| koreana|                            가성비 짱|       true|            0|          0|                0.0|            0|          true|            false|                      false|76561199120263118|                     1|                 1|                 3285.0|                        3084.0|                   3205.0| 2021-01-23 07:10:40|2021-01-23 03:56:35|2021-01-23 03:56:35|\n",
            "| 15|292030|The Witcher 3: Wi...| 85180815|   latam|                 The witcher 3 es ...|       true|            0|          0|                0.0|            0|          true|            false|                      false|76561198301696591|                     5|                 1|                 3586.0|                           0.0|                   3586.0| 2020-12-31 05:02:58|2021-01-23 03:48:28|2021-01-23 03:48:28|\n",
            "| 16|292030|The Witcher 3: Wi...| 85180734|schinese| 当你玩进去之后，一切都顺理成章了起来|       true|            0|          0|                0.0|            0|          true|            false|                      false|76561198985671330|                     9|                 1|                 5483.0|                        2184.0|                   5483.0| 2021-01-23 03:06:43|2021-01-23 03:46:33|2021-01-23 03:46:33|\n",
            "| 17|292030|The Witcher 3: Wi...| 85180438|schinese|                     剑舞天下无敌！！|       true|            0|          0|                0.0|            0|         false|            false|                      false|76561198149550625|                    66|                 7|                 5442.0|                        1643.0|                   5396.0| 2021-01-23 07:24:06|2021-01-23 03:38:07|2021-01-23 03:38:07|\n",
            "| 18|292030|The Witcher 3: Wi...| 85180436| english|                 favorite game of ...|       true|            0|          0|                0.0|            0|          true|            false|                      false|76561198065591528|                    33|                 1|                23329.0|                         177.0|                  23329.0| 2021-01-21 08:50:11|2021-01-23 03:38:06|2021-01-23 03:38:06|\n",
            "| 19|292030|The Witcher 3: Wi...| 85179968|schinese|                                 打桩|       true|            0|          0|                0.0|            0|         false|            false|                      false|76561198249585974|                    31|                 5|                 2153.0|                          46.0|                   2153.0| 2021-01-22 14:23:06|2021-01-23 03:24:46|2021-01-23 03:24:46|\n",
            "| 20|292030|The Witcher 3: Wi...| 85179753| english|                 Why wouldn't you ...|       true|            0|          0|                0.0|            0|          true|            false|                      false|76561198996835044|                   131|                 2|                 8557.0|                        2004.0|                   8557.0| 2021-01-23 03:02:47|2021-01-23 03:19:38|2021-01-23 03:19:38|\n",
            "| 23|292030|The Witcher 3: Wi...| 85178836|schinese|寻路功能真的有点阴间，总体上讲还是...|       true|            1|          0|         0.52380955|            0|          true|            false|                      false|76561198398613695|                    27|                 1|                 1740.0|                        1740.0|                   1616.0| 2021-01-23 07:13:12|2021-01-23 02:55:35|2021-01-23 02:55:35|\n",
            "+---+------+--------------------+---------+--------+-------------------------------------+-----------+-------------+-----------+-------------------+-------------+--------------+-----------------+---------------------------+-----------------+----------------------+------------------+-----------------------+------------------------------+-------------------------+--------------------+-------------------+-------------------+\n",
            "only showing top 20 rows\n",
            "\n"
          ]
        }
      ]
    },
    {
      "cell_type": "markdown",
      "source": [
        "## CRIANDO TEMP VIEW"
      ],
      "metadata": {
        "id": "4xB3JrlBZw09"
      }
    },
    {
      "cell_type": "code",
      "source": [
        "data_spark.createOrReplaceTempView(\"temp_steam\")\n",
        "data_spark.show(5)"
      ],
      "metadata": {
        "colab": {
          "base_uri": "https://localhost:8080/"
        },
        "id": "XpyoFlgxZz86",
        "outputId": "997502b2-07e1-48c1-880c-43169d56568f"
      },
      "execution_count": 27,
      "outputs": [
        {
          "output_type": "stream",
          "name": "stdout",
          "text": [
            "+---+------+--------------------+---------+--------+----------------------------------+-----------+-------------+-----------+-------------------+-------------+--------------+-----------------+---------------------------+-----------------+----------------------+------------------+-----------------------+------------------------------+-------------------------+--------------------+-------------------+-------------------+\n",
            "| id|app_id|            app_name|review_id|language|                            review|recommended|votes_helpful|votes_funny|weighted_vote_score|comment_count|steam_purchase|received_for_free|written_during_early_access|   author_steamid|author_num_games_owned|author_num_reviews|author_playtime_forever|author_playtime_last_two_weeks|author_playtime_at_review|t_author_last_played|t_timestamp_created|t_timestamp_updated|\n",
            "+---+------+--------------------+---------+--------+----------------------------------+-----------+-------------+-----------+-------------------+-------------+--------------+-----------------+---------------------------+-----------------+----------------------+------------------+-----------------------+------------------------------+-------------------------+--------------------+-------------------+-------------------+\n",
            "|  0|292030|The Witcher 3: Wi...| 85185598|schinese|不玩此生遗憾，RPG游戏里的天花板...|       true|            0|          0|                0.0|            0|          true|            false|                      false|76561199095369542|                     6|                 2|                 1909.0|                        1448.0|                   1909.0| 2021-01-22 19:23:03|2021-01-23 06:00:29|2021-01-23 06:00:29|\n",
            "|  1|292030|The Witcher 3: Wi...| 85185250|schinese|       拔DIAO无情打桩机--杰洛特!!!|       true|            0|          0|                0.0|            0|          true|            false|                      false|76561198949504115|                    30|                10|                 2764.0|                        2743.0|                   2674.0| 2021-01-23 07:18:27|2021-01-23 05:50:30|2021-01-23 05:50:30|\n",
            "|  2|292030|The Witcher 3: Wi...| 85185111|schinese|                           巫师3NB|       true|            0|          0|                0.0|            0|          true|            false|                      false|76561199090098988|                     5|                 1|                 1061.0|                        1061.0|                   1060.0| 2021-01-23 06:36:17|2021-01-23 05:46:40|2021-01-23 05:46:40|\n",
            "|  3|292030|The Witcher 3: Wi...| 85184605| english|              One of the best R...|       true|            0|          0|                0.0|            0|          true|            false|                      false|76561199054755373|                     5|                 3|                 5587.0|                        3200.0|                   5524.0| 2021-01-23 06:35:44|2021-01-23 05:32:50|2021-01-23 05:32:50|\n",
            "|  4|292030|The Witcher 3: Wi...| 85184287|schinese|                              大作|       true|            0|          0|                0.0|            0|          true|            false|                      false|76561199028326951|                     7|                 4|                  217.0|                          42.0|                    217.0| 2021-01-16 09:10:49|2021-01-23 05:23:47|2021-01-23 05:23:47|\n",
            "+---+------+--------------------+---------+--------+----------------------------------+-----------+-------------+-----------+-------------------+-------------+--------------+-----------------+---------------------------+-----------------+----------------------+------------------+-----------------------+------------------------------+-------------------------+--------------------+-------------------+-------------------+\n",
            "only showing top 5 rows\n",
            "\n"
          ]
        }
      ]
    },
    {
      "cell_type": "markdown",
      "source": [
        "##PERGUNTA 1 - Qual usuário é mais deu reviews em jogos?"
      ],
      "metadata": {
        "id": "JLkgCtxHUE0b"
      }
    },
    {
      "cell_type": "code",
      "source": [
        "query = \"\"\"SELECT author_steamid, count(author_steamid) as Reviews\n",
        " FROM temp_steam \n",
        " GROUP BY author_steamid\n",
        " ORDER BY Reviews DESC\n",
        " limit 1\n",
        " \"\"\"\n",
        "\n",
        "spark.sql(query).show()"
      ],
      "metadata": {
        "colab": {
          "base_uri": "https://localhost:8080/"
        },
        "id": "masnRoi1UPwQ",
        "outputId": "f3886640-8c3f-4024-b88e-4942ff819692"
      },
      "execution_count": 28,
      "outputs": [
        {
          "output_type": "stream",
          "name": "stdout",
          "text": [
            "+-----------------+-------+\n",
            "|   author_steamid|Reviews|\n",
            "+-----------------+-------+\n",
            "|76561198315585536|    128|\n",
            "+-----------------+-------+\n",
            "\n"
          ]
        }
      ]
    },
    {
      "cell_type": "markdown",
      "source": [
        "## PERGUNTA 2 - Qual jogo é mais recomendado e qual jogo é o menos recomendado?"
      ],
      "metadata": {
        "id": "ZPcRDPLfUP59"
      }
    },
    {
      "cell_type": "markdown",
      "source": [
        "Jogo mais rcomendado"
      ],
      "metadata": {
        "id": "siMsKZWphsDD"
      }
    },
    {
      "cell_type": "code",
      "source": [
        "query = \"\"\" SELECT app_name, COUNT(app_id) as qtd_recommended FROM temp_steam\n",
        "WHERE recommended == true\n",
        "GROUP BY app_name\n",
        "ORDER BY qtd_recommended DESC\n",
        "limit 1\n",
        "\"\"\"\n",
        "spark.sql(query).show()"
      ],
      "metadata": {
        "colab": {
          "base_uri": "https://localhost:8080/"
        },
        "id": "NegZDaV0USTz",
        "outputId": "0c19b94f-8163-4689-e6a4-bfb6fe7d4481"
      },
      "execution_count": 29,
      "outputs": [
        {
          "output_type": "stream",
          "name": "stdout",
          "text": [
            "+--------------------+---------------+\n",
            "|            app_name|qtd_recommended|\n",
            "+--------------------+---------------+\n",
            "|PLAYERUNKNOWN'S B...|         736012|\n",
            "+--------------------+---------------+\n",
            "\n"
          ]
        }
      ]
    },
    {
      "cell_type": "markdown",
      "source": [
        "Jogo menos recomendado"
      ],
      "metadata": {
        "id": "qpuzmDvshuv0"
      }
    },
    {
      "cell_type": "code",
      "source": [
        "query = \"\"\" SELECT app_name, COUNT(app_id) as qtd_recommended FROM temp_steam\n",
        "WHERE recommended == true\n",
        "GROUP BY app_name\n",
        "ORDER BY qtd_recommended ASC\n",
        "limit 1\n",
        "\"\"\"\n",
        "spark.sql(query).show()"
      ],
      "metadata": {
        "colab": {
          "base_uri": "https://localhost:8080/"
        },
        "id": "OX1Sl6rLd5fx",
        "outputId": "09e081a5-33a6-4172-f579-b24548494650"
      },
      "execution_count": 30,
      "outputs": [
        {
          "output_type": "stream",
          "name": "stdout",
          "text": [
            "+--------+---------------+\n",
            "|app_name|qtd_recommended|\n",
            "+--------+---------------+\n",
            "|     000|              2|\n",
            "+--------+---------------+\n",
            "\n"
          ]
        }
      ]
    },
    {
      "cell_type": "markdown",
      "source": [
        "##PERGUNTA 3 - Qual a variedade de linguas em reviews?"
      ],
      "metadata": {
        "id": "ViH9QlKMUWCn"
      }
    },
    {
      "cell_type": "code",
      "source": [
        "query = \"\"\" SELECT DISTINCT(language) FROM temp_steam\"\"\" \n",
        "number = spark.sql(query).count()\n",
        "spark.sql(query).show(number)"
      ],
      "metadata": {
        "colab": {
          "base_uri": "https://localhost:8080/"
        },
        "id": "GpaVPGknibln",
        "outputId": "eeaa322a-b1fa-44a4-a6a4-73db03d8539a"
      },
      "execution_count": 31,
      "outputs": [
        {
          "output_type": "stream",
          "name": "stdout",
          "text": [
            "+----------+\n",
            "|  language|\n",
            "+----------+\n",
            "|   koreana|\n",
            "|     greek|\n",
            "|   russian|\n",
            "|    danish|\n",
            "|     dutch|\n",
            "|  tchinese|\n",
            "|    german|\n",
            "|   spanish|\n",
            "|    french|\n",
            "|vietnamese|\n",
            "|  schinese|\n",
            "|   italian|\n",
            "|   swedish|\n",
            "|      thai|\n",
            "| bulgarian|\n",
            "|   turkish|\n",
            "|   finnish|\n",
            "|portuguese|\n",
            "|  japanese|\n",
            "| ukrainian|\n",
            "|   english|\n",
            "|    polish|\n",
            "|     latam|\n",
            "|       000|\n",
            "| hungarian|\n",
            "|     czech|\n",
            "|  romanian|\n",
            "| norwegian|\n",
            "| brazilian|\n",
            "+----------+\n",
            "\n"
          ]
        }
      ]
    },
    {
      "cell_type": "code",
      "source": [],
      "metadata": {
        "id": "mxdF6p-Bq9AD"
      },
      "execution_count": null,
      "outputs": []
    },
    {
      "cell_type": "code",
      "source": [
        "print('Existem\": ' + str(number) + ' idiomas diferentes nas avaliações')"
      ],
      "metadata": {
        "colab": {
          "base_uri": "https://localhost:8080/"
        },
        "id": "wUCxPpxLieJm",
        "outputId": "6ce90142-c660-4af9-d190-7b08d4babdaa"
      },
      "execution_count": 32,
      "outputs": [
        {
          "output_type": "stream",
          "name": "stdout",
          "text": [
            "Existem\": 29 idiomas diferentes nas avaliações\n"
          ]
        }
      ]
    }
  ],
  "metadata": {
    "colab": {
      "collapsed_sections": [],
      "provenance": [],
      "machine_shape": "hm"
    },
    "gpuClass": "standard",
    "kernelspec": {
      "display_name": "Python 3 (ipykernel)",
      "language": "python",
      "name": "python3"
    },
    "language_info": {
      "codemirror_mode": {
        "name": "ipython",
        "version": 3
      },
      "file_extension": ".py",
      "mimetype": "text/x-python",
      "name": "python",
      "nbconvert_exporter": "python",
      "pygments_lexer": "ipython3",
      "version": "3.10.4"
    }
  },
  "nbformat": 4,
  "nbformat_minor": 0
}