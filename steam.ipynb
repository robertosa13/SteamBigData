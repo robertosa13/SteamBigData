{
  "cells": [
    {
      "cell_type": "markdown",
      "metadata": {
        "tags": [],
        "id": "PDFXZf7FbavX"
      },
      "source": [
        "**Alunos: Caio Serpa, Eden Coelho e Roberto Sá**"
      ]
    },
    {
      "cell_type": "markdown",
      "source": [
        "#Configuração do ambiente, instalação do hadoop e spark"
      ],
      "metadata": {
        "id": "c36GjogX5ktc"
      }
    },
    {
      "cell_type": "code",
      "source": [
        "#instalar o Java 8 na maquina da sessão\n",
        "!apt-get install openjdk-8-jdk-headless -qq > /dev/null\n",
        "\n",
        "#setando jdk 8\n",
        "#!sudo apt install openjdk-8-jdk\n",
        "#!sudo update-alternatives --config java \n",
        "\n",
        "#spark\n",
        "!wget -q https://ftp.unicamp.br/pub/apache/spark/spark-3.1.2/spark-3.1.2-bin-hadoop3.2.tgz\n",
        "#extração do spark\n",
        "!tar xf spark-3.1.2-bin-hadoop3.2.tgz\n",
        "#findspark para facilitar na criação da sessão spark\n",
        "!pip install -q findspark=\n",
        "!pip install  pyspark==3.1.2"
      ],
      "metadata": {
        "id": "LRKS6GpnbdaZ",
        "colab": {
          "base_uri": "https://localhost:8080/"
        },
        "outputId": "f4d52056-e2ba-4b43-a4a6-13e282970fb2"
      },
      "execution_count": 1,
      "outputs": [
        {
          "output_type": "stream",
          "name": "stdout",
          "text": [
            "\u001b[31mERROR: Invalid requirement: 'findspark='\n",
            "Hint: = is not a valid operator. Did you mean == ?\u001b[0m\n",
            "Looking in indexes: https://pypi.org/simple, https://us-python.pkg.dev/colab-wheels/public/simple/\n",
            "Requirement already satisfied: pyspark==3.1.2 in /usr/local/lib/python3.7/dist-packages (3.1.2)\n",
            "Requirement already satisfied: py4j==0.10.9 in /usr/local/lib/python3.7/dist-packages (from pyspark==3.1.2) (0.10.9)\n"
          ]
        }
      ]
    },
    {
      "cell_type": "code",
      "source": [
        "!java -version"
      ],
      "metadata": {
        "colab": {
          "base_uri": "https://localhost:8080/"
        },
        "id": "-eTzi_8cOEzS",
        "outputId": "4afc76da-55ff-4352-b8a7-8df409066456"
      },
      "execution_count": 2,
      "outputs": [
        {
          "output_type": "stream",
          "name": "stdout",
          "text": [
            "openjdk version \"11.0.17\" 2022-10-18\n",
            "OpenJDK Runtime Environment (build 11.0.17+8-post-Ubuntu-1ubuntu218.04)\n",
            "OpenJDK 64-Bit Server VM (build 11.0.17+8-post-Ubuntu-1ubuntu218.04, mixed mode, sharing)\n"
          ]
        }
      ]
    },
    {
      "cell_type": "code",
      "source": [
        "import os\n",
        "from pyspark import SparkConf, SparkContext\n",
        "from pyspark.sql import SparkSession\n",
        "\n",
        "#variáveis de ambiente\n",
        "os.environ[\"JAVA_HOME\"] = \"/usr/lib/jvm/java-8-openjdk-amd64\"\n",
        "os.environ[\"SPARK_HOME\"] = \"/content/spark-3.1.2-bin-hadoop3.2\"\n",
        "\n",
        "\"\"\"\n",
        "\n",
        "os.environ['PYSPARK_SUBMIT_ARGS'] = '\\\n",
        "    --driver-memory 2G \\\n",
        "    --executor-memory 2G \\\n",
        "    pyspark-shell'\n",
        "\n",
        "\"\"\"\n",
        "\n",
        "print(os.environ['JAVA_HOME'])\n",
        "print(os.environ['SPARK_HOME']) "
      ],
      "metadata": {
        "colab": {
          "base_uri": "https://localhost:8080/"
        },
        "id": "l-sfw6A7bsUZ",
        "outputId": "6f9c9848-fa74-4787-a9a3-472b6417a0d0"
      },
      "execution_count": 3,
      "outputs": [
        {
          "output_type": "stream",
          "name": "stdout",
          "text": [
            "/usr/lib/jvm/java-8-openjdk-amd64\n",
            "/content/spark-3.1.2-bin-hadoop3.2\n"
          ]
        }
      ]
    },
    {
      "cell_type": "code",
      "source": [
        "!pip install findspark\n",
        "import findspark\n",
        "\n",
        "findspark.find()\n",
        "findspark.init()\n",
        "\n",
        "conf = SparkConf().setMaster(\"local[*]\")\n",
        "sc = SparkContext.getOrCreate(conf=conf)\n",
        "#sc.stop()"
      ],
      "metadata": {
        "id": "ibj1draDb3ce",
        "colab": {
          "base_uri": "https://localhost:8080/"
        },
        "outputId": "d847e892-d6d1-4074-b1e2-4dc0c3ae1c24"
      },
      "execution_count": 4,
      "outputs": [
        {
          "output_type": "stream",
          "name": "stdout",
          "text": [
            "Looking in indexes: https://pypi.org/simple, https://us-python.pkg.dev/colab-wheels/public/simple/\n",
            "Requirement already satisfied: findspark in /usr/local/lib/python3.7/dist-packages (2.0.1)\n"
          ]
        }
      ]
    },
    {
      "cell_type": "markdown",
      "source": [
        "#Importação do conjunto de dados\n",
        "\n",
        "Fonte dos dados: https://www.kaggle.com/datasets/najzeko/steam-reviews-2021?resource=download\n",
        "\n",
        "Tamanho do arquivo: 8.17GB\n",
        "Formato do arquivo: CSV\n",
        "\n",
        "Conjunto de dados de cerca de 21 milhões de avaliações de usuários de cerca de 300 jogos diferentes no Steam. Obtido usando a API fornecida pelo Steam descrita na documentação do Steamworks"
      ],
      "metadata": {
        "id": "zUjLtTRg5tJG"
      }
    },
    {
      "cell_type": "code",
      "source": [
        "#recebendo os dados via api do google drive\n",
        "from google.colab import drive \n",
        "\n",
        "drive.mount('/content/gdrive')"
      ],
      "metadata": {
        "colab": {
          "base_uri": "https://localhost:8080/"
        },
        "id": "PnVcS5I3cXRC",
        "outputId": "f4a18963-887a-44f0-ee50-0ad13b016cd8"
      },
      "execution_count": 5,
      "outputs": [
        {
          "output_type": "stream",
          "name": "stdout",
          "text": [
            "Drive already mounted at /content/gdrive; to attempt to forcibly remount, call drive.mount(\"/content/gdrive\", force_remount=True).\n"
          ]
        }
      ]
    },
    {
      "cell_type": "code",
      "execution_count": 6,
      "metadata": {
        "id": "VTsOkCxxbave"
      },
      "outputs": [],
      "source": [
        "# Para quem usar Spark SQL\n",
        "from pyspark.sql.functions import to_timestamp\n",
        "spark = SparkSession \\\n",
        "    .builder \\\n",
        "    .getOrCreate()\n",
        "\n",
        "\n",
        "#data_spark = spark.read.csv('gdrive/My Drive/Colab Notebooks/steam_reviews.csv', header=True, inferSchema=False)"
      ]
    },
    {
      "cell_type": "code",
      "source": [
        "from pyspark.sql.types import *\n",
        "\n",
        "schema = StructType([\n",
        "    StructField('_c0', IntegerType(), False),\n",
        "    StructField('app_id',IntegerType(), False),\n",
        "    StructField('app_name', StringType(),False),\n",
        "    StructField('review_id',IntegerType(), False),\n",
        "    StructField('language', StringType(),False),\n",
        "    StructField('review', StringType(),False),\n",
        "    StructField('timestamp_created', LongType(), False),\n",
        "    StructField('timestamp_updated', LongType(), False),\n",
        "    StructField('recommended', BooleanType(), False),\n",
        "    StructField('votes_helpful',IntegerType(), False),\n",
        "    StructField('votes_funny',IntegerType(), False),\n",
        "    StructField('weighted_vote_score', FloatType(), False),\n",
        "    StructField('comment_count',IntegerType(), False),\n",
        "    StructField('steam_purchase', BooleanType(), False),\n",
        "    StructField('received_for_free', BooleanType(), False),\n",
        "    StructField('written_during_early_access', BooleanType(), False),\n",
        "    StructField('author.steamid', LongType(), False),\n",
        "    StructField('author.num_games_owned',IntegerType(), False),\n",
        "    StructField('author.num_reviews',IntegerType(), False),\n",
        "    StructField('author.playtime_forever', FloatType(), False),\n",
        "    StructField('author.playtime_last_two_weeks', FloatType(), False),\n",
        "    StructField('author.playtime_at_review', FloatType(), False),\n",
        "    StructField('author.last_played', StringType(), False),\n",
        "])\n"
      ],
      "metadata": {
        "id": "t9ZeYhwW8QAR"
      },
      "execution_count": 7,
      "outputs": []
    },
    {
      "cell_type": "code",
      "source": [
        "data_spark = spark.read.csv('gdrive/My Drive/Colab Notebooks/steam_reviews.csv', header=True, schema=schema)\n",
        "#data_spark = spark.read.csv('gdrive/My Drive/Colab Notebooks/steam_reviews.csv', header=True, inferSchema=True)"
      ],
      "metadata": {
        "id": "g8DlsCK-_kIi"
      },
      "execution_count": 8,
      "outputs": []
    },
    {
      "cell_type": "code",
      "source": [
        "data_spark.printSchema()"
      ],
      "metadata": {
        "colab": {
          "base_uri": "https://localhost:8080/"
        },
        "id": "WeSP8oI27nvD",
        "outputId": "e7e90da1-2b7a-4a3b-9384-ffe569225236"
      },
      "execution_count": 9,
      "outputs": [
        {
          "output_type": "stream",
          "name": "stdout",
          "text": [
            "root\n",
            " |-- _c0: integer (nullable = true)\n",
            " |-- app_id: integer (nullable = true)\n",
            " |-- app_name: string (nullable = true)\n",
            " |-- review_id: integer (nullable = true)\n",
            " |-- language: string (nullable = true)\n",
            " |-- review: string (nullable = true)\n",
            " |-- timestamp_created: long (nullable = true)\n",
            " |-- timestamp_updated: long (nullable = true)\n",
            " |-- recommended: boolean (nullable = true)\n",
            " |-- votes_helpful: integer (nullable = true)\n",
            " |-- votes_funny: integer (nullable = true)\n",
            " |-- weighted_vote_score: float (nullable = true)\n",
            " |-- comment_count: integer (nullable = true)\n",
            " |-- steam_purchase: boolean (nullable = true)\n",
            " |-- received_for_free: boolean (nullable = true)\n",
            " |-- written_during_early_access: boolean (nullable = true)\n",
            " |-- author.steamid: long (nullable = true)\n",
            " |-- author.num_games_owned: integer (nullable = true)\n",
            " |-- author.num_reviews: integer (nullable = true)\n",
            " |-- author.playtime_forever: float (nullable = true)\n",
            " |-- author.playtime_last_two_weeks: float (nullable = true)\n",
            " |-- author.playtime_at_review: float (nullable = true)\n",
            " |-- author.last_played: string (nullable = true)\n",
            "\n"
          ]
        }
      ]
    },
    {
      "cell_type": "code",
      "source": [
        "data_spark = data_spark.withColumnRenamed('_c0', 'id')\\\n",
        "            .withColumnRenamed('author.steamid', 'author_steamid')\\\n",
        "            .withColumnRenamed('author.num_games_owned', 'author_num_games_owned')\\\n",
        "            .withColumnRenamed('author.num_reviews', 'author_num_reviews')\\\n",
        "            .withColumnRenamed('author.playtime_forever', 'author_playtime_forever')\\\n",
        "            .withColumnRenamed('author.playtime_last_two_weeks', 'author_playtime_last_two_weeks')\\\n",
        "            .withColumnRenamed('author.playtime_at_review', 'author_playtime_at_review')\\\n",
        "            .withColumnRenamed('author.last_played', 'author_last_played')"
      ],
      "metadata": {
        "id": "NzXcAYcVYyHJ"
      },
      "execution_count": 10,
      "outputs": []
    },
    {
      "cell_type": "code",
      "source": [
        "data_spark.show()"
      ],
      "metadata": {
        "colab": {
          "base_uri": "https://localhost:8080/"
        },
        "id": "jJV10kfbe_xl",
        "outputId": "42b8cd17-1c08-43f8-ed13-030873b1ac95"
      },
      "execution_count": 11,
      "outputs": [
        {
          "output_type": "stream",
          "name": "stdout",
          "text": [
            "+----+----------+--------------------+---------+--------+------------------------------------+-----------------+-----------------+-----------+-------------+-----------+-------------------+-------------+--------------+-----------------+---------------------------+-----------------+----------------------+------------------+-----------------------+------------------------------+-------------------------+------------------+\n",
            "|  id|    app_id|            app_name|review_id|language|                              review|timestamp_created|timestamp_updated|recommended|votes_helpful|votes_funny|weighted_vote_score|comment_count|steam_purchase|received_for_free|written_during_early_access|   author_steamid|author_num_games_owned|author_num_reviews|author_playtime_forever|author_playtime_last_two_weeks|author_playtime_at_review|author_last_played|\n",
            "+----+----------+--------------------+---------+--------+------------------------------------+-----------------+-----------------+-----------+-------------+-----------+-------------------+-------------+--------------+-----------------+---------------------------+-----------------+----------------------+------------------+-----------------------+------------------------------+-------------------------+------------------+\n",
            "|   0|    292030|The Witcher 3: Wi...| 85185598|schinese|  不玩此生遗憾，RPG游戏里的天花板...|       1611381629|       1611381629|       true|            0|          0|                0.0|            0|          true|            false|                      false|76561199095369542|                     6|                 2|                 1909.0|                        1448.0|                   1909.0|      1611343383.0|\n",
            "|   1|    292030|The Witcher 3: Wi...| 85185250|schinese|         拔DIAO无情打桩机--杰洛特!!!|       1611381030|       1611381030|       true|            0|          0|                0.0|            0|          true|            false|                      false|76561198949504115|                    30|                10|                 2764.0|                        2743.0|                   2674.0|      1611386307.0|\n",
            "|   2|    292030|The Witcher 3: Wi...| 85185111|schinese|                             巫师3NB|       1611380800|       1611380800|       true|            0|          0|                0.0|            0|          true|            false|                      false|76561199090098988|                     5|                 1|                 1061.0|                        1061.0|                   1060.0|      1611383777.0|\n",
            "|   3|    292030|The Witcher 3: Wi...| 85184605| english|                One of the best R...|       1611379970|       1611379970|       true|            0|          0|                0.0|            0|          true|            false|                      false|76561199054755373|                     5|                 3|                 5587.0|                        3200.0|                   5524.0|      1611383744.0|\n",
            "|   4|    292030|The Witcher 3: Wi...| 85184287|schinese|                                大作|       1611379427|       1611379427|       true|            0|          0|                0.0|            0|          true|            false|                      false|76561199028326951|                     7|                 4|                  217.0|                          42.0|                    217.0|      1610788249.0|\n",
            "|   5|    292030|The Witcher 3: Wi...| 85184171| english|                good story, good ...|       1611379264|       1611379264|       true|            0|          0|                0.0|            0|          true|            false|                      false|76561198170193529|                    11|                 1|                  823.0|                         823.0|                    823.0|      1611379201.0|\n",
            "|   6|    292030|The Witcher 3: Wi...| 85184064| english|                            dis gud,|       1611379091|       1611379091|       true|            0|          0|                0.0|            0|          true|            false|                      false|76561198119302812|                    27|                 2|                 4192.0|                        3398.0|                   4192.0|      1611351734.0|\n",
            "|   7|    292030|The Witcher 3: Wi...| 85183602| turkish|                                   .|             null|             null|       null|         null|       null|               null|         null|          null|             null|                       null|             null|                  null|              null|                   null|                          null|                     null|              null|\n",
            "|null|      null|                null|     null|    null|                                null|             null|             null|       null|         null|       null|               null|         null|          null|             null|                       null|             null|                  null|              null|                   null|                          null|                     null|              null|\n",
            "|   8|    292030|The Witcher 3: Wi...| 85183227|schinese|    年度最佳的作品，没啥好夸的，神作|       1611377703|       1611377703|       true|            0|          0|                0.0|            0|          true|            false|                      false|76561198130808993|                   581|                17|                 6921.0|                         222.0|                   6921.0|      1611317275.0|\n",
            "|   9|    292030|The Witcher 3: Wi...| 85182785| spanish|                          great game|       1611377005|       1611377005|       true|            0|          0|                0.0|            0|          true|            false|                      false|76561198301724112|                    38|                 5|                 2399.0|                         333.0|                   2364.0|      1611379080.0|\n",
            "|  10|    292030|The Witcher 3: Wi...| 85182697|schinese|                          神作！不bb|       1611376831|       1611376831|       true|            0|          0|                0.0|            0|         false|            false|                      false|76561199089209577|                    29|                 1|                 5368.0|                        1471.0|                   5368.0|      1611371665.0|\n",
            "|  11|    292030|The Witcher 3: Wi...| 85182372| russian|                Шикарная игра с о...|       1611376281|       1611376281|       true|            0|          0|                0.0|            0|          true|            false|                      false|76561198257031328|                    11|                 2|                  508.0|                         508.0|                    348.0|      1611386568.0|\n",
            "|  12|    292030|The Witcher 3: Wi...| 85182067|schinese|   \"什么?你儿子失踪了?什么?这栋房...|             null|             null|       null|         null|       null|               null|         null|          null|             null|                       null|             null|                  null|              null|                   null|                          null|                     null|              null|\n",
            "|null|1611375772|          1611375772|     null|       0|                                   0|             null|                0|       true|         null|       null|       7.6561202E16|           20|          null|             null|                       null|             null|                  null|              null|                   null|                          null|                     null|              null|\n",
            "|  13|    292030|The Witcher 3: Wi...| 85181146| russian|                Замечательная кар...|       1611374238|       1611374309|       true|            0|          0|                0.0|            0|          true|            false|                      false|76561197987104694|                   501|                23|                 7310.0|                           0.0|                   7310.0|      1525554549.0|\n",
            "|  14|    292030|The Witcher 3: Wi...| 85181114| koreana|                           가성비 짱|       1611374195|       1611374195|       true|            0|          0|                0.0|            0|          true|            false|                      false|76561199120263118|                     1|                 1|                 3285.0|                        3084.0|                   3205.0|      1611385840.0|\n",
            "|  15|    292030|The Witcher 3: Wi...| 85180815|   latam|                The witcher 3 es ...|       1611373708|       1611373708|       true|            0|          0|                0.0|            0|          true|            false|                      false|76561198301696591|                     5|                 1|                 3586.0|                           0.0|                   3586.0|      1609390978.0|\n",
            "|  16|    292030|The Witcher 3: Wi...| 85180734|schinese|当你玩进去之后，一切都顺理成章了起来|       1611373593|       1611373593|       true|            0|          0|                0.0|            0|          true|            false|                      false|76561198985671330|                     9|                 1|                 5483.0|                        2184.0|                   5483.0|      1611371203.0|\n",
            "|  17|    292030|The Witcher 3: Wi...| 85180438|schinese|                    剑舞天下无敌！！|       1611373087|       1611373087|       true|            0|          0|                0.0|            0|         false|            false|                      false|76561198149550625|                    66|                 7|                 5442.0|                        1643.0|                   5396.0|      1611386646.0|\n",
            "+----+----------+--------------------+---------+--------+------------------------------------+-----------------+-----------------+-----------+-------------+-----------+-------------------+-------------+--------------+-----------------+---------------------------+-----------------+----------------------+------------------+-----------------------+------------------------------+-------------------------+------------------+\n",
            "only showing top 20 rows\n",
            "\n"
          ]
        }
      ]
    },
    {
      "cell_type": "markdown",
      "source": [],
      "metadata": {
        "id": "Cvlig2Qf6Z3C"
      }
    },
    {
      "cell_type": "code",
      "source": [
        "data_spark = data_spark.na.drop().cache()"
      ],
      "metadata": {
        "id": "g9818ULlKMk-"
      },
      "execution_count": 12,
      "outputs": []
    },
    {
      "cell_type": "code",
      "source": [
        "data_spark.show(10,truncate=False)"
      ],
      "metadata": {
        "colab": {
          "base_uri": "https://localhost:8080/"
        },
        "id": "nVjucT8ba609",
        "outputId": "771fe259-581a-4dea-8d0d-17e3fa30a666"
      },
      "execution_count": 13,
      "outputs": [
        {
          "output_type": "stream",
          "name": "stdout",
          "text": [
            "+---+------+------------------------+---------+--------+-----------------------------------------------------------+-----------------+-----------------+-----------+-------------+-----------+-------------------+-------------+--------------+-----------------+---------------------------+-----------------+----------------------+------------------+-----------------------+------------------------------+-------------------------+------------------+\n",
            "|id |app_id|app_name                |review_id|language|review                                                     |timestamp_created|timestamp_updated|recommended|votes_helpful|votes_funny|weighted_vote_score|comment_count|steam_purchase|received_for_free|written_during_early_access|author_steamid   |author_num_games_owned|author_num_reviews|author_playtime_forever|author_playtime_last_two_weeks|author_playtime_at_review|author_last_played|\n",
            "+---+------+------------------------+---------+--------+-----------------------------------------------------------+-----------------+-----------------+-----------+-------------+-----------+-------------------+-------------+--------------+-----------------+---------------------------+-----------------+----------------------+------------------+-----------------------+------------------------------+-------------------------+------------------+\n",
            "|0  |292030|The Witcher 3: Wild Hunt|85185598 |schinese|不玩此生遗憾，RPG游戏里的天花板，太吸引人了                |1611381629       |1611381629       |true       |0            |0          |0.0                |0            |true          |false            |false                      |76561199095369542|6                     |2                 |1909.0                 |1448.0                        |1909.0                   |1611343383.0      |\n",
            "|1  |292030|The Witcher 3: Wild Hunt|85185250 |schinese|拔DIAO无情打桩机--杰洛特!!!                                |1611381030       |1611381030       |true       |0            |0          |0.0                |0            |true          |false            |false                      |76561198949504115|30                    |10                |2764.0                 |2743.0                        |2674.0                   |1611386307.0      |\n",
            "|2  |292030|The Witcher 3: Wild Hunt|85185111 |schinese|巫师3NB                                                    |1611380800       |1611380800       |true       |0            |0          |0.0                |0            |true          |false            |false                      |76561199090098988|5                     |1                 |1061.0                 |1061.0                        |1060.0                   |1611383777.0      |\n",
            "|3  |292030|The Witcher 3: Wild Hunt|85184605 |english |One of the best RPG's of all time, worthy of any collection|1611379970       |1611379970       |true       |0            |0          |0.0                |0            |true          |false            |false                      |76561199054755373|5                     |3                 |5587.0                 |3200.0                        |5524.0                   |1611383744.0      |\n",
            "|4  |292030|The Witcher 3: Wild Hunt|85184287 |schinese|大作                                                       |1611379427       |1611379427       |true       |0            |0          |0.0                |0            |true          |false            |false                      |76561199028326951|7                     |4                 |217.0                  |42.0                          |217.0                    |1610788249.0      |\n",
            "|5  |292030|The Witcher 3: Wild Hunt|85184171 |english |good story, good graphics. lots to do.                     |1611379264       |1611379264       |true       |0            |0          |0.0                |0            |true          |false            |false                      |76561198170193529|11                    |1                 |823.0                  |823.0                         |823.0                    |1611379201.0      |\n",
            "|6  |292030|The Witcher 3: Wild Hunt|85184064 |english |dis gud,                                                   |1611379091       |1611379091       |true       |0            |0          |0.0                |0            |true          |false            |false                      |76561198119302812|27                    |2                 |4192.0                 |3398.0                        |4192.0                   |1611351734.0      |\n",
            "|8  |292030|The Witcher 3: Wild Hunt|85183227 |schinese|年度最佳的作品，没啥好夸的，神作                           |1611377703       |1611377703       |true       |0            |0          |0.0                |0            |true          |false            |false                      |76561198130808993|581                   |17                |6921.0                 |222.0                         |6921.0                   |1611317275.0      |\n",
            "|9  |292030|The Witcher 3: Wild Hunt|85182785 |spanish |great game                                                 |1611377005       |1611377005       |true       |0            |0          |0.0                |0            |true          |false            |false                      |76561198301724112|38                    |5                 |2399.0                 |333.0                         |2364.0                   |1611379080.0      |\n",
            "|10 |292030|The Witcher 3: Wild Hunt|85182697 |schinese|神作！不bb                                                 |1611376831       |1611376831       |true       |0            |0          |0.0                |0            |false         |false            |false                      |76561199089209577|29                    |1                 |5368.0                 |1471.0                        |5368.0                   |1611371665.0      |\n",
            "+---+------+------------------------+---------+--------+-----------------------------------------------------------+-----------------+-----------------+-----------+-------------+-----------+-------------------+-------------+--------------+-----------------+---------------------------+-----------------+----------------------+------------------+-----------------------+------------------------------+-------------------------+------------------+\n",
            "only showing top 10 rows\n",
            "\n"
          ]
        }
      ]
    },
    {
      "cell_type": "code",
      "source": [
        "#data_spark.count()"
      ],
      "metadata": {
        "id": "c-rbqQ-NXNcE"
      },
      "execution_count": 14,
      "outputs": []
    },
    {
      "cell_type": "code",
      "source": [
        "from pyspark.sql.functions import *\n",
        "\n",
        "#função para remover o ponto e o zero da coluna autor_last_played\n",
        "get_number_without_dot = udf(lambda s: s.split('.')[0], StringType())\n",
        "data_spark = data_spark.withColumn('s_author_last_played', get_number_without_dot(data_spark.author_last_played)).cache()"
      ],
      "metadata": {
        "id": "ujsX97bKWRmp"
      },
      "execution_count": 15,
      "outputs": []
    },
    {
      "cell_type": "code",
      "source": [
        "data_spark.show(10,truncate=False)"
      ],
      "metadata": {
        "colab": {
          "base_uri": "https://localhost:8080/"
        },
        "id": "UW4hms4ej7ie",
        "outputId": "bae3c3d8-0c73-4248-bbed-93d8c19f06ac"
      },
      "execution_count": 16,
      "outputs": [
        {
          "output_type": "stream",
          "name": "stdout",
          "text": [
            "+---+------+------------------------+---------+--------+-----------------------------------------------------------+-----------------+-----------------+-----------+-------------+-----------+-------------------+-------------+--------------+-----------------+---------------------------+-----------------+----------------------+------------------+-----------------------+------------------------------+-------------------------+------------------+--------------------+\n",
            "|id |app_id|app_name                |review_id|language|review                                                     |timestamp_created|timestamp_updated|recommended|votes_helpful|votes_funny|weighted_vote_score|comment_count|steam_purchase|received_for_free|written_during_early_access|author_steamid   |author_num_games_owned|author_num_reviews|author_playtime_forever|author_playtime_last_two_weeks|author_playtime_at_review|author_last_played|s_author_last_played|\n",
            "+---+------+------------------------+---------+--------+-----------------------------------------------------------+-----------------+-----------------+-----------+-------------+-----------+-------------------+-------------+--------------+-----------------+---------------------------+-----------------+----------------------+------------------+-----------------------+------------------------------+-------------------------+------------------+--------------------+\n",
            "|0  |292030|The Witcher 3: Wild Hunt|85185598 |schinese|不玩此生遗憾，RPG游戏里的天花板，太吸引人了                |1611381629       |1611381629       |true       |0            |0          |0.0                |0            |true          |false            |false                      |76561199095369542|6                     |2                 |1909.0                 |1448.0                        |1909.0                   |1611343383.0      |1611343383          |\n",
            "|1  |292030|The Witcher 3: Wild Hunt|85185250 |schinese|拔DIAO无情打桩机--杰洛特!!!                                |1611381030       |1611381030       |true       |0            |0          |0.0                |0            |true          |false            |false                      |76561198949504115|30                    |10                |2764.0                 |2743.0                        |2674.0                   |1611386307.0      |1611386307          |\n",
            "|2  |292030|The Witcher 3: Wild Hunt|85185111 |schinese|巫师3NB                                                    |1611380800       |1611380800       |true       |0            |0          |0.0                |0            |true          |false            |false                      |76561199090098988|5                     |1                 |1061.0                 |1061.0                        |1060.0                   |1611383777.0      |1611383777          |\n",
            "|3  |292030|The Witcher 3: Wild Hunt|85184605 |english |One of the best RPG's of all time, worthy of any collection|1611379970       |1611379970       |true       |0            |0          |0.0                |0            |true          |false            |false                      |76561199054755373|5                     |3                 |5587.0                 |3200.0                        |5524.0                   |1611383744.0      |1611383744          |\n",
            "|4  |292030|The Witcher 3: Wild Hunt|85184287 |schinese|大作                                                       |1611379427       |1611379427       |true       |0            |0          |0.0                |0            |true          |false            |false                      |76561199028326951|7                     |4                 |217.0                  |42.0                          |217.0                    |1610788249.0      |1610788249          |\n",
            "|5  |292030|The Witcher 3: Wild Hunt|85184171 |english |good story, good graphics. lots to do.                     |1611379264       |1611379264       |true       |0            |0          |0.0                |0            |true          |false            |false                      |76561198170193529|11                    |1                 |823.0                  |823.0                         |823.0                    |1611379201.0      |1611379201          |\n",
            "|6  |292030|The Witcher 3: Wild Hunt|85184064 |english |dis gud,                                                   |1611379091       |1611379091       |true       |0            |0          |0.0                |0            |true          |false            |false                      |76561198119302812|27                    |2                 |4192.0                 |3398.0                        |4192.0                   |1611351734.0      |1611351734          |\n",
            "|8  |292030|The Witcher 3: Wild Hunt|85183227 |schinese|年度最佳的作品，没啥好夸的，神作                           |1611377703       |1611377703       |true       |0            |0          |0.0                |0            |true          |false            |false                      |76561198130808993|581                   |17                |6921.0                 |222.0                         |6921.0                   |1611317275.0      |1611317275          |\n",
            "|9  |292030|The Witcher 3: Wild Hunt|85182785 |spanish |great game                                                 |1611377005       |1611377005       |true       |0            |0          |0.0                |0            |true          |false            |false                      |76561198301724112|38                    |5                 |2399.0                 |333.0                         |2364.0                   |1611379080.0      |1611379080          |\n",
            "|10 |292030|The Witcher 3: Wild Hunt|85182697 |schinese|神作！不bb                                                 |1611376831       |1611376831       |true       |0            |0          |0.0                |0            |false         |false            |false                      |76561199089209577|29                    |1                 |5368.0                 |1471.0                        |5368.0                   |1611371665.0      |1611371665          |\n",
            "+---+------+------------------------+---------+--------+-----------------------------------------------------------+-----------------+-----------------+-----------+-------------+-----------+-------------------+-------------+--------------+-----------------+---------------------------+-----------------+----------------------+------------------+-----------------------+------------------------------+-------------------------+------------------+--------------------+\n",
            "only showing top 10 rows\n",
            "\n"
          ]
        }
      ]
    },
    {
      "cell_type": "code",
      "source": [
        "#Convertendo para longType() a coluna s_author_last played\n",
        "data_spark = data_spark.withColumn('s_author_last_played',data_spark[\"s_author_last_played\"].cast(LongType())).cache()\n",
        "\n",
        "#Convertendo para data as seguintes colunas\n",
        "data_spark  = data_spark.withColumn('s_author_last_played', from_unixtime(col('s_author_last_played')))\\\n",
        "          .withColumnRenamed('s_author_last_played','t_author_last_played')\\\n",
        "          .withColumn('t_timestamp_created', from_unixtime(col('timestamp_created')))\\\n",
        "          .withColumn('t_timestamp_updated', from_unixtime(col('timestamp_updated')))\\\n",
        "          .cache()\n",
        "\n",
        "#dropando colunas\n",
        "cols = (\"timestamp_created\",\"timestamp_updated\",\"author_last_played\")\n",
        "data_spark = data_spark.drop(*cols).cache()\n",
        "\n",
        "data_spark.show(10,truncate=False)"
      ],
      "metadata": {
        "colab": {
          "base_uri": "https://localhost:8080/"
        },
        "id": "ktvcdrAhj3DY",
        "outputId": "db7ef051-d871-4bb0-835f-97321b3a715b"
      },
      "execution_count": 17,
      "outputs": [
        {
          "output_type": "stream",
          "name": "stdout",
          "text": [
            "+---+------+------------------------+---------+--------+-----------------------------------------------------------+-----------+-------------+-----------+-------------------+-------------+--------------+-----------------+---------------------------+-----------------+----------------------+------------------+-----------------------+------------------------------+-------------------------+--------------------+-------------------+-------------------+\n",
            "|id |app_id|app_name                |review_id|language|review                                                     |recommended|votes_helpful|votes_funny|weighted_vote_score|comment_count|steam_purchase|received_for_free|written_during_early_access|author_steamid   |author_num_games_owned|author_num_reviews|author_playtime_forever|author_playtime_last_two_weeks|author_playtime_at_review|t_author_last_played|t_timestamp_created|t_timestamp_updated|\n",
            "+---+------+------------------------+---------+--------+-----------------------------------------------------------+-----------+-------------+-----------+-------------------+-------------+--------------+-----------------+---------------------------+-----------------+----------------------+------------------+-----------------------+------------------------------+-------------------------+--------------------+-------------------+-------------------+\n",
            "|0  |292030|The Witcher 3: Wild Hunt|85185598 |schinese|不玩此生遗憾，RPG游戏里的天花板，太吸引人了                |true       |0            |0          |0.0                |0            |true          |false            |false                      |76561199095369542|6                     |2                 |1909.0                 |1448.0                        |1909.0                   |2021-01-22 19:23:03 |2021-01-23 06:00:29|2021-01-23 06:00:29|\n",
            "|1  |292030|The Witcher 3: Wild Hunt|85185250 |schinese|拔DIAO无情打桩机--杰洛特!!!                                |true       |0            |0          |0.0                |0            |true          |false            |false                      |76561198949504115|30                    |10                |2764.0                 |2743.0                        |2674.0                   |2021-01-23 07:18:27 |2021-01-23 05:50:30|2021-01-23 05:50:30|\n",
            "|2  |292030|The Witcher 3: Wild Hunt|85185111 |schinese|巫师3NB                                                    |true       |0            |0          |0.0                |0            |true          |false            |false                      |76561199090098988|5                     |1                 |1061.0                 |1061.0                        |1060.0                   |2021-01-23 06:36:17 |2021-01-23 05:46:40|2021-01-23 05:46:40|\n",
            "|3  |292030|The Witcher 3: Wild Hunt|85184605 |english |One of the best RPG's of all time, worthy of any collection|true       |0            |0          |0.0                |0            |true          |false            |false                      |76561199054755373|5                     |3                 |5587.0                 |3200.0                        |5524.0                   |2021-01-23 06:35:44 |2021-01-23 05:32:50|2021-01-23 05:32:50|\n",
            "|4  |292030|The Witcher 3: Wild Hunt|85184287 |schinese|大作                                                       |true       |0            |0          |0.0                |0            |true          |false            |false                      |76561199028326951|7                     |4                 |217.0                  |42.0                          |217.0                    |2021-01-16 09:10:49 |2021-01-23 05:23:47|2021-01-23 05:23:47|\n",
            "|5  |292030|The Witcher 3: Wild Hunt|85184171 |english |good story, good graphics. lots to do.                     |true       |0            |0          |0.0                |0            |true          |false            |false                      |76561198170193529|11                    |1                 |823.0                  |823.0                         |823.0                    |2021-01-23 05:20:01 |2021-01-23 05:21:04|2021-01-23 05:21:04|\n",
            "|6  |292030|The Witcher 3: Wild Hunt|85184064 |english |dis gud,                                                   |true       |0            |0          |0.0                |0            |true          |false            |false                      |76561198119302812|27                    |2                 |4192.0                 |3398.0                        |4192.0                   |2021-01-22 21:42:14 |2021-01-23 05:18:11|2021-01-23 05:18:11|\n",
            "|8  |292030|The Witcher 3: Wild Hunt|85183227 |schinese|年度最佳的作品，没啥好夸的，神作                           |true       |0            |0          |0.0                |0            |true          |false            |false                      |76561198130808993|581                   |17                |6921.0                 |222.0                         |6921.0                   |2021-01-22 12:07:55 |2021-01-23 04:55:03|2021-01-23 04:55:03|\n",
            "|9  |292030|The Witcher 3: Wild Hunt|85182785 |spanish |great game                                                 |true       |0            |0          |0.0                |0            |true          |false            |false                      |76561198301724112|38                    |5                 |2399.0                 |333.0                         |2364.0                   |2021-01-23 05:18:00 |2021-01-23 04:43:25|2021-01-23 04:43:25|\n",
            "|10 |292030|The Witcher 3: Wild Hunt|85182697 |schinese|神作！不bb                                                 |true       |0            |0          |0.0                |0            |false         |false            |false                      |76561199089209577|29                    |1                 |5368.0                 |1471.0                        |5368.0                   |2021-01-23 03:14:25 |2021-01-23 04:40:31|2021-01-23 04:40:31|\n",
            "+---+------+------------------------+---------+--------+-----------------------------------------------------------+-----------+-------------+-----------+-------------------+-------------+--------------+-----------------+---------------------------+-----------------+----------------------+------------------+-----------------------+------------------------------+-------------------------+--------------------+-------------------+-------------------+\n",
            "only showing top 10 rows\n",
            "\n"
          ]
        }
      ]
    }
  ],
  "metadata": {
    "kernelspec": {
      "display_name": "Python 3 (ipykernel)",
      "language": "python",
      "name": "python3"
    },
    "language_info": {
      "codemirror_mode": {
        "name": "ipython",
        "version": 3
      },
      "file_extension": ".py",
      "mimetype": "text/x-python",
      "name": "python",
      "nbconvert_exporter": "python",
      "pygments_lexer": "ipython3",
      "version": "3.10.4"
    },
    "colab": {
      "provenance": [],
      "collapsed_sections": []
    }
  },
  "nbformat": 4,
  "nbformat_minor": 0
}