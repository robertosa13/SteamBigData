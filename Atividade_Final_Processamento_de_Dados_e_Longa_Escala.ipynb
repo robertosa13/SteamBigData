{
  "cells": [
    {
      "cell_type": "markdown",
      "metadata": {
        "id": "view-in-github",
        "colab_type": "text"
      },
      "source": [
        "<a href=\"https://colab.research.google.com/github/robertosa13/SteamBigData/blob/develop/Atividade_Final_Processamento_de_Dados_e_Longa_Escala.ipynb\" target=\"_parent\"><img src=\"https://colab.research.google.com/assets/colab-badge.svg\" alt=\"Open In Colab\"/></a>"
      ]
    },
    {
      "cell_type": "markdown",
      "metadata": {
        "id": "PDFXZf7FbavX"
      },
      "source": [
        "# **Atividade final avaliativa da disciplina de Processamento de Dados e Longa Escala** \n",
        "\n",
        "## **Tutor**: Anderson Felipe Rocha\n",
        "##**Alunos**: Caio Serpa, Eden Coelho e Roberto Sá\n",
        "\n",
        "Proposta:\n",
        "\n",
        "Realizar a busca de um dataset no Kaggle que fosse um \"Big Data\", e realizar operações com o dataset buscado"
      ]
    },
    {
      "cell_type": "markdown",
      "source": [
        "# Sobre o conjunto de dados\n",
        "\n",
        "Os dados foram retirados do **Kaggle**\n",
        "\n",
        " Fonte dos dados: [Stream Reviews 2021](https://www.kaggle.com/datasets/najzeko/steam-reviews-2021?resource=download)\n",
        "\n",
        "**Tamanho do arquivo:** 8.17GB\n",
        "\n",
        "**Formato do arquivo:** CSV\n",
        "\n",
        "\n",
        "**Conjunto de dados de cerca de 21 milhões de avaliações de usuários de cerca de 300 jogos diferentes no Steam. Obtido usando a API fornecida pelo Steam descrita na documentação do Steamworks**"
      ],
      "metadata": {
        "id": "PSn615gbx425"
      }
    },
    {
      "cell_type": "markdown",
      "source": [
        "# Descrição do DataFrame\n",
        "\n",
        "**'#'**: Index\n",
        "\n",
        "**app_id**: Steam app id\n",
        "\n",
        "**app_name**: App name\n",
        "\n",
        "**review_id**: Review id\n",
        "\n",
        "**language**: Language of review\n",
        "\n",
        "**review**: Review text\n",
        "\n",
        "**timestamp_created**: Review creation timestamp\n",
        "\n",
        "**timestamp_updated**: Review latest update timestamp\n",
        "\n",
        "**recommended**: Whether review recommends the app\n",
        "\n",
        "**votes_helpful**: Number of \"helpful\" votes for review\n",
        "\n",
        "**votes_funny**: Number of \"funny\" votes for review\n",
        "\n",
        "**weighted_vote_score**: Score based on number of helpful votes\n",
        "\n",
        "**comment_count**: Number of comments for review\n",
        "\n",
        "**steam_purchase**: Whether review author purchased the app on Steam\n",
        "\n",
        "**received_for_free**: Whether review author received the app for free\n",
        "\n",
        "**written_during_early_access**: Whether review was written during early access\n",
        "\n",
        "**author.steamid**: Review author steam id\n",
        "\n",
        "**author.num_games_owned**: Number of games review author owns\n",
        "\n",
        "**author.num_reviews**: Number of lifetime app reviews by author\n",
        "\n",
        "**author.playtime_forever**: Author lifetime playtime of reviewed app\n",
        "\n",
        "**author.playtime_last_two_weeks**: Author playtime of reviewed app in last 2 weeks\n",
        "\n",
        "**author.playtime_at_review**: Author playtime of reviewed app at time of review\n",
        "\n",
        "**author.last_played**: Author time last played reviewed app"
      ],
      "metadata": {
        "id": "A_aZtLhkEJix"
      }
    },
    {
      "cell_type": "markdown",
      "metadata": {
        "id": "c36GjogX5ktc"
      },
      "source": [
        "#Configuração do ambiente, instalação do hadoop e spark"
      ]
    },
    {
      "cell_type": "code",
      "execution_count": 2,
      "metadata": {
        "colab": {
          "base_uri": "https://localhost:8080/"
        },
        "id": "LRKS6GpnbdaZ",
        "outputId": "386a421f-4291-4fb1-cb77-3a679478cd01"
      },
      "outputs": [
        {
          "output_type": "stream",
          "name": "stdout",
          "text": [
            "Looking in indexes: https://pypi.org/simple, https://us-python.pkg.dev/colab-wheels/public/simple/\n",
            "Collecting pyspark==3.1.2\n",
            "  Downloading pyspark-3.1.2.tar.gz (212.4 MB)\n",
            "\u001b[K     |████████████████████████████████| 212.4 MB 61 kB/s \n",
            "\u001b[?25hCollecting py4j==0.10.9\n",
            "  Downloading py4j-0.10.9-py2.py3-none-any.whl (198 kB)\n",
            "\u001b[K     |████████████████████████████████| 198 kB 21.3 MB/s \n",
            "\u001b[?25hBuilding wheels for collected packages: pyspark\n",
            "  Building wheel for pyspark (setup.py) ... \u001b[?25l\u001b[?25hdone\n",
            "  Created wheel for pyspark: filename=pyspark-3.1.2-py2.py3-none-any.whl size=212880769 sha256=ef657be05ae3a0f8b51649c81902169c2fd8a2936062baa1813c4b7986d1fc7a\n",
            "  Stored in directory: /root/.cache/pip/wheels/a5/0a/c1/9561f6fecb759579a7d863dcd846daaa95f598744e71b02c77\n",
            "Successfully built pyspark\n",
            "Installing collected packages: py4j, pyspark\n",
            "Successfully installed py4j-0.10.9 pyspark-3.1.2\n"
          ]
        }
      ],
      "source": [
        "#instalar o Java 8 na maquina da sessão\n",
        "!apt-get install openjdk-8-jdk-headless -qq > /dev/null\n",
        "\n",
        "#setando jdk 8\n",
        "#!sudo apt install openjdk-8-jdk\n",
        "#!sudo update-alternatives --config java \n",
        "\n",
        "#spark\n",
        "!wget -q https://ftp.unicamp.br/pub/apache/spark/spark-3.1.2/spark-3.1.2-bin-hadoop3.2.tgz\n",
        "#extração do spark\n",
        "!tar xf spark-3.1.2-bin-hadoop3.2.tgz\n",
        "#findspark para facilitar na criação da sessão spark\n",
        "!pip install -q findspark\n",
        "!pip install  pyspark==3.1.2"
      ]
    },
    {
      "cell_type": "markdown",
      "source": [
        "# Verificando versão do Java"
      ],
      "metadata": {
        "id": "IBQR7KemTWsv"
      }
    },
    {
      "cell_type": "code",
      "execution_count": 3,
      "metadata": {
        "colab": {
          "base_uri": "https://localhost:8080/"
        },
        "id": "-eTzi_8cOEzS",
        "outputId": "ca0c2236-b9a2-4633-ad85-6ff293cd92bf"
      },
      "outputs": [
        {
          "output_type": "stream",
          "name": "stdout",
          "text": [
            "openjdk version \"11.0.17\" 2022-10-18\n",
            "OpenJDK Runtime Environment (build 11.0.17+8-post-Ubuntu-1ubuntu218.04)\n",
            "OpenJDK 64-Bit Server VM (build 11.0.17+8-post-Ubuntu-1ubuntu218.04, mixed mode, sharing)\n"
          ]
        }
      ],
      "source": [
        "!java -version"
      ]
    },
    {
      "cell_type": "code",
      "execution_count": 4,
      "metadata": {
        "colab": {
          "base_uri": "https://localhost:8080/"
        },
        "id": "l-sfw6A7bsUZ",
        "outputId": "c35ce05f-8f20-4a28-e3ad-7a93e9ea572a"
      },
      "outputs": [
        {
          "output_type": "stream",
          "name": "stdout",
          "text": [
            "/usr/lib/jvm/java-8-openjdk-amd64\n",
            "/content/spark-3.1.2-bin-hadoop3.2\n"
          ]
        }
      ],
      "source": [
        "import os\n",
        "from pyspark import SparkConf, SparkContext\n",
        "from pyspark.sql import SparkSession\n",
        "\n",
        "#variáveis de ambiente\n",
        "os.environ[\"JAVA_HOME\"] = \"/usr/lib/jvm/java-8-openjdk-amd64\"\n",
        "os.environ[\"SPARK_HOME\"] = \"/content/spark-3.1.2-bin-hadoop3.2\"\n",
        "\n",
        "\"\"\"\n",
        "os.environ['PYSPARK_SUBMIT_ARGS'] = '\\\n",
        "    --driver-memory 20G \\\n",
        "    --executor-memory 20G \\\n",
        "    pyspark-shell'\n",
        "\n",
        "\"\"\"\n",
        "print(os.environ['JAVA_HOME'])\n",
        "print(os.environ['SPARK_HOME']) "
      ]
    },
    {
      "cell_type": "code",
      "execution_count": 5,
      "metadata": {
        "id": "ibj1draDb3ce"
      },
      "outputs": [],
      "source": [
        "import findspark\n",
        "\n",
        "findspark.find()\n",
        "findspark.init()\n",
        "\n",
        "conf = SparkConf().setMaster(\"local[*]\")\n",
        "sc = SparkContext.getOrCreate(conf=conf)\n",
        "#sc.stop()"
      ]
    },
    {
      "cell_type": "markdown",
      "metadata": {
        "id": "zUjLtTRg5tJG"
      },
      "source": [
        "# Importação do conjunto de dados\n"
      ]
    },
    {
      "cell_type": "code",
      "execution_count": 6,
      "metadata": {
        "colab": {
          "base_uri": "https://localhost:8080/"
        },
        "id": "PnVcS5I3cXRC",
        "outputId": "05264def-46c7-4235-8990-cb1fc211ca3b"
      },
      "outputs": [
        {
          "output_type": "stream",
          "name": "stdout",
          "text": [
            "Mounted at /content/gdrive\n"
          ]
        }
      ],
      "source": [
        "#recebendo os dados via api do google drive\n",
        "from google.colab import drive \n",
        "\n",
        "drive.mount('/content/gdrive')"
      ]
    },
    {
      "cell_type": "code",
      "execution_count": 7,
      "metadata": {
        "id": "VTsOkCxxbave"
      },
      "outputs": [],
      "source": [
        "# Para quem usar Spark SQL\n",
        "from pyspark.sql.functions import to_timestamp\n",
        "spark = SparkSession \\\n",
        "    .builder \\\n",
        "    .getOrCreate()\n",
        "\n",
        "\n",
        "#data_spark = spark.read.csv('gdrive/My Drive/Colab Notebooks/steam_reviews.csv', header=True, inferSchema=False)"
      ]
    },
    {
      "cell_type": "code",
      "execution_count": 8,
      "metadata": {
        "id": "t9ZeYhwW8QAR"
      },
      "outputs": [],
      "source": [
        "from pyspark.sql.types import *\n",
        "\n",
        "schema = StructType([\n",
        "    StructField('_c0', IntegerType(), False),\n",
        "    StructField('app_id',IntegerType(), False),\n",
        "    StructField('app_name', StringType(),False),\n",
        "    StructField('review_id',IntegerType(), False),\n",
        "    StructField('language', StringType(),False),\n",
        "    StructField('review', StringType(),False),\n",
        "    StructField('timestamp_created', LongType(), False),\n",
        "    StructField('timestamp_updated', LongType(), False),\n",
        "    StructField('recommended', BooleanType(), False),\n",
        "    StructField('votes_helpful',IntegerType(), False),\n",
        "    StructField('votes_funny',IntegerType(), False),\n",
        "    StructField('weighted_vote_score', FloatType(), False),\n",
        "    StructField('comment_count',IntegerType(), False),\n",
        "    StructField('steam_purchase', BooleanType(), False),\n",
        "    StructField('received_for_free', BooleanType(), False),\n",
        "    StructField('written_during_early_access', BooleanType(), False),\n",
        "    StructField('author.steamid', LongType(), False),\n",
        "    StructField('author.num_games_owned',IntegerType(), False),\n",
        "    StructField('author.num_reviews',IntegerType(), False),\n",
        "    StructField('author.playtime_forever', FloatType(), False),\n",
        "    StructField('author.playtime_last_two_weeks', FloatType(), False),\n",
        "    StructField('author.playtime_at_review', FloatType(), False),\n",
        "    StructField('author.last_played', StringType(), False),\n",
        "])\n"
      ]
    },
    {
      "cell_type": "code",
      "execution_count": 10,
      "metadata": {
        "id": "g8DlsCK-_kIi"
      },
      "outputs": [],
      "source": [
        "data_spark = spark.read.csv('gdrive/My Drive/Colab Notebooks/steam_reviews.csv', header=True, schema=schema)\n",
        "#data_spark = spark.read.csv('gdrive/My Drive/Colab Notebooks/steam_reviews.csv', header=True, inferSchema=True)"
      ]
    },
    {
      "cell_type": "code",
      "execution_count": 11,
      "metadata": {
        "colab": {
          "base_uri": "https://localhost:8080/"
        },
        "id": "WeSP8oI27nvD",
        "outputId": "ce487c4e-fbec-4ed9-cafc-8f7c34ea81bf"
      },
      "outputs": [
        {
          "output_type": "stream",
          "name": "stdout",
          "text": [
            "root\n",
            " |-- _c0: integer (nullable = true)\n",
            " |-- app_id: integer (nullable = true)\n",
            " |-- app_name: string (nullable = true)\n",
            " |-- review_id: integer (nullable = true)\n",
            " |-- language: string (nullable = true)\n",
            " |-- review: string (nullable = true)\n",
            " |-- timestamp_created: long (nullable = true)\n",
            " |-- timestamp_updated: long (nullable = true)\n",
            " |-- recommended: boolean (nullable = true)\n",
            " |-- votes_helpful: integer (nullable = true)\n",
            " |-- votes_funny: integer (nullable = true)\n",
            " |-- weighted_vote_score: float (nullable = true)\n",
            " |-- comment_count: integer (nullable = true)\n",
            " |-- steam_purchase: boolean (nullable = true)\n",
            " |-- received_for_free: boolean (nullable = true)\n",
            " |-- written_during_early_access: boolean (nullable = true)\n",
            " |-- author.steamid: long (nullable = true)\n",
            " |-- author.num_games_owned: integer (nullable = true)\n",
            " |-- author.num_reviews: integer (nullable = true)\n",
            " |-- author.playtime_forever: float (nullable = true)\n",
            " |-- author.playtime_last_two_weeks: float (nullable = true)\n",
            " |-- author.playtime_at_review: float (nullable = true)\n",
            " |-- author.last_played: string (nullable = true)\n",
            "\n"
          ]
        }
      ],
      "source": [
        "data_spark.printSchema()"
      ]
    },
    {
      "cell_type": "code",
      "execution_count": 13,
      "metadata": {
        "colab": {
          "base_uri": "https://localhost:8080/"
        },
        "id": "NzXcAYcVYyHJ",
        "outputId": "333a3094-1f36-4c24-8e31-a5cc03508116"
      },
      "outputs": [
        {
          "output_type": "execute_result",
          "data": {
            "text/plain": [
              "40848659"
            ]
          },
          "metadata": {},
          "execution_count": 13
        }
      ],
      "source": [
        "data_spark = data_spark.withColumnRenamed('_c0', 'id')\\\n",
        "            .withColumnRenamed('author.steamid', 'author_steamid')\\\n",
        "            .withColumnRenamed('author.num_games_owned', 'author_num_games_owned')\\\n",
        "            .withColumnRenamed('author.num_reviews', 'author_num_reviews')\\\n",
        "            .withColumnRenamed('author.playtime_forever', 'author_playtime_forever')\\\n",
        "            .withColumnRenamed('author.playtime_last_two_weeks', 'author_playtime_last_two_weeks')\\\n",
        "            .withColumnRenamed('author.playtime_at_review', 'author_playtime_at_review')\\\n",
        "            .withColumnRenamed('author.last_played', 'author_last_played').cache()\n",
        "\n",
        "data_spark.count()"
      ]
    },
    {
      "cell_type": "code",
      "execution_count": null,
      "metadata": {
        "id": "jJV10kfbe_xl"
      },
      "outputs": [],
      "source": [
        "data_spark.show(5)"
      ]
    },
    {
      "cell_type": "code",
      "execution_count": null,
      "metadata": {
        "colab": {
          "background_save": true
        },
        "id": "g9818ULlKMk-",
        "outputId": "98318de1-ebb8-457c-d781-3d29327f1ddb"
      },
      "outputs": [
        {
          "data": {
            "text/plain": [
              "16619206"
            ]
          },
          "execution_count": 12,
          "metadata": {},
          "output_type": "execute_result"
        }
      ],
      "source": [
        "data_spark = data_spark.na.drop().cache()\n",
        "data_spark.count()"
      ]
    },
    {
      "cell_type": "code",
      "execution_count": null,
      "metadata": {
        "colab": {
          "background_save": true
        },
        "id": "nVjucT8ba609",
        "outputId": "531214dd-b6ac-4f74-ce0f-90eabcb7439d"
      },
      "outputs": [
        {
          "name": "stdout",
          "output_type": "stream",
          "text": [
            "+---+------+------------------------+---------+--------+-----------------------------------------------------------+-----------------+-----------------+-----------+-------------+-----------+-------------------+-------------+--------------+-----------------+---------------------------+-----------------+----------------------+------------------+-----------------------+------------------------------+-------------------------+------------------+\n",
            "|id |app_id|app_name                |review_id|language|review                                                     |timestamp_created|timestamp_updated|recommended|votes_helpful|votes_funny|weighted_vote_score|comment_count|steam_purchase|received_for_free|written_during_early_access|author_steamid   |author_num_games_owned|author_num_reviews|author_playtime_forever|author_playtime_last_two_weeks|author_playtime_at_review|author_last_played|\n",
            "+---+------+------------------------+---------+--------+-----------------------------------------------------------+-----------------+-----------------+-----------+-------------+-----------+-------------------+-------------+--------------+-----------------+---------------------------+-----------------+----------------------+------------------+-----------------------+------------------------------+-------------------------+------------------+\n",
            "|0  |292030|The Witcher 3: Wild Hunt|85185598 |schinese|不玩此生遗憾，RPG游戏里的天花板，太吸引人了                |1611381629       |1611381629       |true       |0            |0          |0.0                |0            |true          |false            |false                      |76561199095369542|6                     |2                 |1909.0                 |1448.0                        |1909.0                   |1611343383.0      |\n",
            "|1  |292030|The Witcher 3: Wild Hunt|85185250 |schinese|拔DIAO无情打桩机--杰洛特!!!                                |1611381030       |1611381030       |true       |0            |0          |0.0                |0            |true          |false            |false                      |76561198949504115|30                    |10                |2764.0                 |2743.0                        |2674.0                   |1611386307.0      |\n",
            "|2  |292030|The Witcher 3: Wild Hunt|85185111 |schinese|巫师3NB                                                    |1611380800       |1611380800       |true       |0            |0          |0.0                |0            |true          |false            |false                      |76561199090098988|5                     |1                 |1061.0                 |1061.0                        |1060.0                   |1611383777.0      |\n",
            "|3  |292030|The Witcher 3: Wild Hunt|85184605 |english |One of the best RPG's of all time, worthy of any collection|1611379970       |1611379970       |true       |0            |0          |0.0                |0            |true          |false            |false                      |76561199054755373|5                     |3                 |5587.0                 |3200.0                        |5524.0                   |1611383744.0      |\n",
            "|4  |292030|The Witcher 3: Wild Hunt|85184287 |schinese|大作                                                       |1611379427       |1611379427       |true       |0            |0          |0.0                |0            |true          |false            |false                      |76561199028326951|7                     |4                 |217.0                  |42.0                          |217.0                    |1610788249.0      |\n",
            "|5  |292030|The Witcher 3: Wild Hunt|85184171 |english |good story, good graphics. lots to do.                     |1611379264       |1611379264       |true       |0            |0          |0.0                |0            |true          |false            |false                      |76561198170193529|11                    |1                 |823.0                  |823.0                         |823.0                    |1611379201.0      |\n",
            "|6  |292030|The Witcher 3: Wild Hunt|85184064 |english |dis gud,                                                   |1611379091       |1611379091       |true       |0            |0          |0.0                |0            |true          |false            |false                      |76561198119302812|27                    |2                 |4192.0                 |3398.0                        |4192.0                   |1611351734.0      |\n",
            "|8  |292030|The Witcher 3: Wild Hunt|85183227 |schinese|年度最佳的作品，没啥好夸的，神作                           |1611377703       |1611377703       |true       |0            |0          |0.0                |0            |true          |false            |false                      |76561198130808993|581                   |17                |6921.0                 |222.0                         |6921.0                   |1611317275.0      |\n",
            "|9  |292030|The Witcher 3: Wild Hunt|85182785 |spanish |great game                                                 |1611377005       |1611377005       |true       |0            |0          |0.0                |0            |true          |false            |false                      |76561198301724112|38                    |5                 |2399.0                 |333.0                         |2364.0                   |1611379080.0      |\n",
            "|10 |292030|The Witcher 3: Wild Hunt|85182697 |schinese|神作！不bb                                                 |1611376831       |1611376831       |true       |0            |0          |0.0                |0            |false         |false            |false                      |76561199089209577|29                    |1                 |5368.0                 |1471.0                        |5368.0                   |1611371665.0      |\n",
            "+---+------+------------------------+---------+--------+-----------------------------------------------------------+-----------------+-----------------+-----------+-------------+-----------+-------------------+-------------+--------------+-----------------+---------------------------+-----------------+----------------------+------------------+-----------------------+------------------------------+-------------------------+------------------+\n",
            "only showing top 10 rows\n",
            "\n"
          ]
        }
      ],
      "source": [
        "data_spark.show(10,truncate=False)"
      ]
    },
    {
      "cell_type": "code",
      "execution_count": null,
      "metadata": {
        "colab": {
          "background_save": true
        },
        "id": "c-rbqQ-NXNcE"
      },
      "outputs": [],
      "source": [
        "#data_spark.count()"
      ]
    },
    {
      "cell_type": "code",
      "execution_count": null,
      "metadata": {
        "colab": {
          "background_save": true
        },
        "id": "ujsX97bKWRmp",
        "outputId": "0c198017-bc50-4612-dd88-7b4aab551c5e"
      },
      "outputs": [
        {
          "data": {
            "text/plain": [
              "16619206"
            ]
          },
          "execution_count": 15,
          "metadata": {},
          "output_type": "execute_result"
        }
      ],
      "source": [
        "from pyspark.sql.functions import *\n",
        "\n",
        "#função para remover o ponto e o zero da coluna autor_last_played\n",
        "get_number_without_dot = udf(lambda s: s.split('.')[0], StringType())\n",
        "data_spark = data_spark.withColumn('s_author_last_played', get_number_without_dot(data_spark.author_last_played)).cache()\n",
        "data_spark.count()"
      ]
    },
    {
      "cell_type": "code",
      "execution_count": null,
      "metadata": {
        "colab": {
          "background_save": true
        },
        "id": "UW4hms4ej7ie",
        "outputId": "4d862046-4aa9-4e80-b5c9-eb636746ba59"
      },
      "outputs": [
        {
          "name": "stdout",
          "output_type": "stream",
          "text": [
            "+---+------+------------------------+---------+--------+-----------------------------------------------------------+-----------------+-----------------+-----------+-------------+-----------+-------------------+-------------+--------------+-----------------+---------------------------+-----------------+----------------------+------------------+-----------------------+------------------------------+-------------------------+------------------+--------------------+\n",
            "|id |app_id|app_name                |review_id|language|review                                                     |timestamp_created|timestamp_updated|recommended|votes_helpful|votes_funny|weighted_vote_score|comment_count|steam_purchase|received_for_free|written_during_early_access|author_steamid   |author_num_games_owned|author_num_reviews|author_playtime_forever|author_playtime_last_two_weeks|author_playtime_at_review|author_last_played|s_author_last_played|\n",
            "+---+------+------------------------+---------+--------+-----------------------------------------------------------+-----------------+-----------------+-----------+-------------+-----------+-------------------+-------------+--------------+-----------------+---------------------------+-----------------+----------------------+------------------+-----------------------+------------------------------+-------------------------+------------------+--------------------+\n",
            "|0  |292030|The Witcher 3: Wild Hunt|85185598 |schinese|不玩此生遗憾，RPG游戏里的天花板，太吸引人了                |1611381629       |1611381629       |true       |0            |0          |0.0                |0            |true          |false            |false                      |76561199095369542|6                     |2                 |1909.0                 |1448.0                        |1909.0                   |1611343383.0      |1611343383          |\n",
            "|1  |292030|The Witcher 3: Wild Hunt|85185250 |schinese|拔DIAO无情打桩机--杰洛特!!!                                |1611381030       |1611381030       |true       |0            |0          |0.0                |0            |true          |false            |false                      |76561198949504115|30                    |10                |2764.0                 |2743.0                        |2674.0                   |1611386307.0      |1611386307          |\n",
            "|2  |292030|The Witcher 3: Wild Hunt|85185111 |schinese|巫师3NB                                                    |1611380800       |1611380800       |true       |0            |0          |0.0                |0            |true          |false            |false                      |76561199090098988|5                     |1                 |1061.0                 |1061.0                        |1060.0                   |1611383777.0      |1611383777          |\n",
            "|3  |292030|The Witcher 3: Wild Hunt|85184605 |english |One of the best RPG's of all time, worthy of any collection|1611379970       |1611379970       |true       |0            |0          |0.0                |0            |true          |false            |false                      |76561199054755373|5                     |3                 |5587.0                 |3200.0                        |5524.0                   |1611383744.0      |1611383744          |\n",
            "|4  |292030|The Witcher 3: Wild Hunt|85184287 |schinese|大作                                                       |1611379427       |1611379427       |true       |0            |0          |0.0                |0            |true          |false            |false                      |76561199028326951|7                     |4                 |217.0                  |42.0                          |217.0                    |1610788249.0      |1610788249          |\n",
            "|5  |292030|The Witcher 3: Wild Hunt|85184171 |english |good story, good graphics. lots to do.                     |1611379264       |1611379264       |true       |0            |0          |0.0                |0            |true          |false            |false                      |76561198170193529|11                    |1                 |823.0                  |823.0                         |823.0                    |1611379201.0      |1611379201          |\n",
            "|6  |292030|The Witcher 3: Wild Hunt|85184064 |english |dis gud,                                                   |1611379091       |1611379091       |true       |0            |0          |0.0                |0            |true          |false            |false                      |76561198119302812|27                    |2                 |4192.0                 |3398.0                        |4192.0                   |1611351734.0      |1611351734          |\n",
            "|8  |292030|The Witcher 3: Wild Hunt|85183227 |schinese|年度最佳的作品，没啥好夸的，神作                           |1611377703       |1611377703       |true       |0            |0          |0.0                |0            |true          |false            |false                      |76561198130808993|581                   |17                |6921.0                 |222.0                         |6921.0                   |1611317275.0      |1611317275          |\n",
            "|9  |292030|The Witcher 3: Wild Hunt|85182785 |spanish |great game                                                 |1611377005       |1611377005       |true       |0            |0          |0.0                |0            |true          |false            |false                      |76561198301724112|38                    |5                 |2399.0                 |333.0                         |2364.0                   |1611379080.0      |1611379080          |\n",
            "|10 |292030|The Witcher 3: Wild Hunt|85182697 |schinese|神作！不bb                                                 |1611376831       |1611376831       |true       |0            |0          |0.0                |0            |false         |false            |false                      |76561199089209577|29                    |1                 |5368.0                 |1471.0                        |5368.0                   |1611371665.0      |1611371665          |\n",
            "+---+------+------------------------+---------+--------+-----------------------------------------------------------+-----------------+-----------------+-----------+-------------+-----------+-------------------+-------------+--------------+-----------------+---------------------------+-----------------+----------------------+------------------+-----------------------+------------------------------+-------------------------+------------------+--------------------+\n",
            "only showing top 10 rows\n",
            "\n"
          ]
        }
      ],
      "source": [
        "data_spark.show(10,truncate=False)"
      ]
    },
    {
      "cell_type": "code",
      "execution_count": null,
      "metadata": {
        "colab": {
          "background_save": true
        },
        "id": "ktvcdrAhj3DY",
        "outputId": "f59e3054-2294-40e2-d484-98ccab6e6bbc"
      },
      "outputs": [
        {
          "ename": "NameError",
          "evalue": "ignored",
          "output_type": "error",
          "traceback": [
            "\u001b[0;31m---------------------------------------------------------------------------\u001b[0m",
            "\u001b[0;31mNameError\u001b[0m                                 Traceback (most recent call last)",
            "\u001b[0;32m<ipython-input-17-12cb0fef0ebf>\u001b[0m in \u001b[0;36m<module>\u001b[0;34m\u001b[0m\n\u001b[1;32m      1\u001b[0m \u001b[0;31m#Convertendo para longType() a coluna s_author_last played\u001b[0m\u001b[0;34m\u001b[0m\u001b[0;34m\u001b[0m\u001b[0;34m\u001b[0m\u001b[0m\n\u001b[1;32m      2\u001b[0m \u001b[0mdata_spark\u001b[0m \u001b[0;34m=\u001b[0m \u001b[0mdata_spark\u001b[0m\u001b[0;34m.\u001b[0m\u001b[0mwithColumn\u001b[0m\u001b[0;34m(\u001b[0m\u001b[0;34m's_author_last_played'\u001b[0m\u001b[0;34m,\u001b[0m\u001b[0mdata_spark\u001b[0m\u001b[0;34m[\u001b[0m\u001b[0;34m\"s_author_last_played\"\u001b[0m\u001b[0;34m]\u001b[0m\u001b[0;34m.\u001b[0m\u001b[0mcast\u001b[0m\u001b[0;34m(\u001b[0m\u001b[0mLongType\u001b[0m\u001b[0;34m(\u001b[0m\u001b[0;34m)\u001b[0m\u001b[0;34m)\u001b[0m\u001b[0;34m)\u001b[0m\u001b[0;34m.\u001b[0m\u001b[0mcache\u001b[0m\u001b[0;34m(\u001b[0m\u001b[0;34m)\u001b[0m\u001b[0;34m\u001b[0m\u001b[0;34m\u001b[0m\u001b[0m\n\u001b[0;32m----> 3\u001b[0;31m \u001b[0mda\u001b[0m\u001b[0;34m\u001b[0m\u001b[0;34m\u001b[0m\u001b[0m\n\u001b[0m\u001b[1;32m      4\u001b[0m \u001b[0;31m#Convertendo para data as seguintes colunas\u001b[0m\u001b[0;34m\u001b[0m\u001b[0;34m\u001b[0m\u001b[0;34m\u001b[0m\u001b[0m\n\u001b[1;32m      5\u001b[0m \u001b[0mdata_spark\u001b[0m  \u001b[0;34m=\u001b[0m \u001b[0mdata_spark\u001b[0m\u001b[0;34m.\u001b[0m\u001b[0mwithColumn\u001b[0m\u001b[0;34m(\u001b[0m\u001b[0;34m's_author_last_played'\u001b[0m\u001b[0;34m,\u001b[0m \u001b[0mfrom_unixtime\u001b[0m\u001b[0;34m(\u001b[0m\u001b[0mcol\u001b[0m\u001b[0;34m(\u001b[0m\u001b[0;34m's_author_last_played'\u001b[0m\u001b[0;34m)\u001b[0m\u001b[0;34m)\u001b[0m\u001b[0;34m)\u001b[0m\u001b[0;31m\\\u001b[0m\u001b[0;34m\u001b[0m\u001b[0;34m\u001b[0m\u001b[0m\n",
            "\u001b[0;31mNameError\u001b[0m: name 'da' is not defined"
          ]
        }
      ],
      "source": [
        "#Convertendo para longType() a coluna s_author_last played\n",
        "data_spark = data_spark.withColumn('s_author_last_played',data_spark[\"s_author_last_played\"].cast(LongType())).cache()\n",
        "\n",
        "#Convertendo para data as seguintes colunas\n",
        "data_spark  = data_spark.withColumn('s_author_last_played', from_unixtime(col('s_author_last_played')))\\\n",
        "          .withColumnRenamed('s_author_last_played','t_author_last_played')\\\n",
        "          .withColumn('t_timestamp_created', from_unixtime(col('timestamp_created')))\\\n",
        "          .withColumn('t_timestamp_updated', from_unixtime(col('timestamp_updated')))\\\n",
        "          .cache()\n",
        "\n",
        "#dropando colunas\n",
        "cols = (\"timestamp_created\",\"timestamp_updated\",\"author_last_played\")\n",
        "data_spark = data_spark.drop(*cols).cache()\n",
        "data_spark.count()\n",
        "\n",
        "data_spark.show(10,truncate=False)"
      ]
    },
    {
      "cell_type": "markdown",
      "source": [
        "# Com os dados limpos"
      ],
      "metadata": {
        "id": "SlHe0NhDdUwu"
      }
    },
    {
      "cell_type": "code",
      "source": [
        "spark = SparkSession.builder\\\n",
        "    .master(\"local[*]\")\\\n",
        "    .getOrCreate()\n",
        "\n",
        "data_spark = spark.read.csv('gdrive/My Drive/Colab Notebooks/clean_data.csv', header=False)\n"
      ],
      "metadata": {
        "id": "CAgJnDctdY5A"
      },
      "execution_count": 13,
      "outputs": []
    },
    {
      "cell_type": "code",
      "source": [
        "\n",
        "data_spark = data_spark\\\n",
        "            .withColumnRenamed('_c0', 'id')\\\n",
        "            .withColumnRenamed('_c1', 'app_id')\\\n",
        "            .withColumnRenamed('_c2', 'review_id')\\\n",
        "            .withColumnRenamed('_c3', 'language')\\\n",
        "            .withColumnRenamed('_c4', 'review')\\\n",
        "            .withColumnRenamed('_c5', 'timestamp_created')\\\n",
        "            .withColumnRenamed('_c6', 'timestamp_updated')\\\n",
        "            .withColumnRenamed('_c7', 'recommended')\\\n",
        "            .withColumnRenamed('_c8', 'votes_helpful')\\\n",
        "            .withColumnRenamed('_c9', 'votes_funny')\\\n",
        "            .withColumnRenamed('_c10', 'weighted_vote_score')\\\n",
        "            .withColumnRenamed('_c11', 'comment_count')\\\n",
        "            .withColumnRenamed('_c12', 'steam_purchase')\\\n",
        "            .withColumnRenamed('_c13', 'received_for_free')\\\n",
        "            .withColumnRenamed('_c14', 'written_during_early_access')\\\n",
        "            .withColumnRenamed('_c15', 'author_last_played')\\\n",
        "            .withColumnRenamed('_c16', 'author_last_played')\\\n",
        "            .withColumnRenamed('_c17', 'author_last_played')\\\n",
        "            .withColumnRenamed('_c18', 'author_last_played')\\\n",
        "            .withColumnRenamed('_c19', 'author_last_played')\\\n",
        "            .withColumnRenamed('_c20', 'author_last_played').cache()"
      ],
      "metadata": {
        "id": "22yrH2-eo6Zt"
      },
      "execution_count": 14,
      "outputs": []
    },
    {
      "cell_type": "code",
      "source": [
        "#Creating temp view to work with sql queries\n",
        "data_spark.createOrReplaceTempView(\"tb_reviews\")"
      ],
      "metadata": {
        "id": "Ak8R8_t2dbX2"
      },
      "execution_count": 15,
      "outputs": []
    },
    {
      "cell_type": "code",
      "source": [
        "data_spark.show(5)"
      ],
      "metadata": {
        "id": "fRbgvGdudcr-",
        "outputId": "5316fc19-f43b-4d9b-daaa-110d25f83e61",
        "colab": {
          "base_uri": "https://localhost:8080/"
        }
      },
      "execution_count": 16,
      "outputs": [
        {
          "output_type": "stream",
          "name": "stdout",
          "text": [
            "+---+------+--------------------+--------+--------+----------------------------------+-----------------+-----------+-------------+-----------+-------------------+-------------+--------------+-----------------+---------------------------+------------------+------------------+------------------+------------------+------------------+-------------------+-------------------+-------------------+\n",
            "| id|app_id|           review_id|language|  review|                 timestamp_created|timestamp_updated|recommended|votes_helpful|votes_funny|weighted_vote_score|comment_count|steam_purchase|received_for_free|written_during_early_access|author_last_played|author_last_played|author_last_played|author_last_played|author_last_played| author_last_played|               _c21|               _c22|\n",
            "+---+------+--------------------+--------+--------+----------------------------------+-----------------+-----------+-------------+-----------+-------------------+-------------+--------------+-----------------+---------------------------+------------------+------------------+------------------+------------------+------------------+-------------------+-------------------+-------------------+\n",
            "|  0|292030|The Witcher 3: Wi...|85185598|schinese|不玩此生遗憾，RPG游戏里的天花板...|             true|          0|            0|        0.0|                  0|         true|         false|            false|          76561199095369542|                 6|                 2|            1909.0|            1448.0|            1909.0|2021-01-22 19:23:03|2021-01-23 06:00:29|2021-01-23 06:00:29|\n",
            "|  1|292030|The Witcher 3: Wi...|85185250|schinese|       拔DIAO无情打桩机--杰洛特!!!|             true|          0|            0|        0.0|                  0|         true|         false|            false|          76561198949504115|                30|                10|            2764.0|            2743.0|            2674.0|2021-01-23 07:18:27|2021-01-23 05:50:30|2021-01-23 05:50:30|\n",
            "|  2|292030|The Witcher 3: Wi...|85185111|schinese|                           巫师3NB|             true|          0|            0|        0.0|                  0|         true|         false|            false|          76561199090098988|                 5|                 1|            1061.0|            1061.0|            1060.0|2021-01-23 06:36:17|2021-01-23 05:46:40|2021-01-23 05:46:40|\n",
            "|  3|292030|The Witcher 3: Wi...|85184605| english|              One of the best R...|             true|          0|            0|        0.0|                  0|         true|         false|            false|          76561199054755373|                 5|                 3|            5587.0|            3200.0|            5524.0|2021-01-23 06:35:44|2021-01-23 05:32:50|2021-01-23 05:32:50|\n",
            "|  4|292030|The Witcher 3: Wi...|85184287|schinese|                              大作|             true|          0|            0|        0.0|                  0|         true|         false|            false|          76561199028326951|                 7|                 4|             217.0|              42.0|             217.0|2021-01-16 09:10:49|2021-01-23 05:23:47|2021-01-23 05:23:47|\n",
            "+---+------+--------------------+--------+--------+----------------------------------+-----------------+-----------+-------------+-----------+-------------------+-------------+--------------+-----------------+---------------------------+------------------+------------------+------------------+------------------+------------------+-------------------+-------------------+-------------------+\n",
            "only showing top 5 rows\n",
            "\n"
          ]
        }
      ]
    },
    {
      "cell_type": "markdown",
      "source": [
        "#1 -  Qual usuário é mais deu reviews em jogos?"
      ],
      "metadata": {
        "id": "gNyu3RjexT6i"
      }
    },
    {
      "cell_type": "code",
      "source": [
        "spark = SparkSession.builder\\\n",
        "    .master(\"local[*]\")\\\n",
        "    .getOrCreate()\n",
        "\n",
        "query = \"\"\"\n",
        "\"\"\"\"\n",
        "\n",
        "spark.sql"
      ],
      "metadata": {
        "id": "sF58P1PWZoO8"
      },
      "execution_count": null,
      "outputs": []
    },
    {
      "cell_type": "markdown",
      "source": [
        "# 2 - Qual jogo é mais recomendado e qual jogo é o menos recomendado?"
      ],
      "metadata": {
        "id": "16pxVoCl93k8"
      }
    },
    {
      "cell_type": "markdown",
      "source": [
        "# 3 - Qual a variedade de linguas em reviews?"
      ],
      "metadata": {
        "id": "xE3jvf24DWS-"
      }
    },
    {
      "cell_type": "markdown",
      "source": [
        "# 4 - Mostre o usário que mais possuem jogos e sua quantidade de reviews? Faça o mesmo para situação inversa"
      ],
      "metadata": {
        "id": "u_jRJkSNDdSW"
      }
    },
    {
      "cell_type": "markdown",
      "source": [
        "# 5 - Quais usuários mais tiveram votos que auxiliam a comudidade? Eles compraram os jogos? Quais são os jogos?"
      ],
      "metadata": {
        "id": "8Df1owSKIlr9"
      }
    },
    {
      "cell_type": "markdown",
      "source": [
        "# 6- Quais são os jogos mais jogados? Eles foram, comprados ou usados durante o tempo gratuito?"
      ],
      "metadata": {
        "id": "IRRK2TP3JTpE"
      }
    },
    {
      "cell_type": "markdown",
      "source": [
        "# 7 - Algum usuário comentou em mais de um idioma? Se sim, mostre os comentários e liste os usuários"
      ],
      "metadata": {
        "id": "Kbsl_dRrMJ4r"
      }
    },
    {
      "cell_type": "markdown",
      "source": [
        "# Parando atividades no PySPark"
      ],
      "metadata": {
        "id": "gavmY39AV1aS"
      }
    },
    {
      "cell_type": "code",
      "source": [
        "sc.stop()"
      ],
      "metadata": {
        "id": "v8GO8NSyVXQ8"
      },
      "execution_count": null,
      "outputs": []
    }
  ],
  "metadata": {
    "colab": {
      "collapsed_sections": [],
      "provenance": [],
      "include_colab_link": true
    },
    "gpuClass": "standard",
    "kernelspec": {
      "display_name": "Python 3 (ipykernel)",
      "language": "python",
      "name": "python3"
    },
    "language_info": {
      "codemirror_mode": {
        "name": "ipython",
        "version": 3
      },
      "file_extension": ".py",
      "mimetype": "text/x-python",
      "name": "python",
      "nbconvert_exporter": "python",
      "pygments_lexer": "ipython3",
      "version": "3.10.4"
    }
  },
  "nbformat": 4,
  "nbformat_minor": 0
}